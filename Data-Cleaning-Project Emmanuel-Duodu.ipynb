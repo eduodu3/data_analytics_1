{
 "cells": [
  {
   "cell_type": "code",
   "execution_count": 1,
   "id": "4af78a33",
   "metadata": {},
   "outputs": [],
   "source": [
    "# Import numpy and pandas\n",
    "import numpy as np\n",
    "import pandas as pd\n",
    "import missingno as msno\n",
    "import re\n",
    "import seaborn as sns\n",
    "import random"
   ]
  },
  {
   "cell_type": "code",
   "execution_count": 2,
   "id": "0ae88fce",
   "metadata": {},
   "outputs": [
    {
     "name": "stdout",
     "output_type": "stream",
     "text": [
      "Requirement already satisfied: missingno in c:\\users\\eafrimpong\\music\\anaconda\\lib\\site-packages (0.5.1)\n",
      "Requirement already satisfied: scipy in c:\\users\\eafrimpong\\music\\anaconda\\lib\\site-packages (from missingno) (1.7.3)\n",
      "Requirement already satisfied: matplotlib in c:\\users\\eafrimpong\\music\\anaconda\\lib\\site-packages (from missingno) (3.5.1)\n",
      "Requirement already satisfied: numpy in c:\\users\\eafrimpong\\music\\anaconda\\lib\\site-packages (from missingno) (1.21.5)\n",
      "Requirement already satisfied: seaborn in c:\\users\\eafrimpong\\music\\anaconda\\lib\\site-packages (from missingno) (0.11.2)\n",
      "Requirement already satisfied: pyparsing>=2.2.1 in c:\\users\\eafrimpong\\music\\anaconda\\lib\\site-packages (from matplotlib->missingno) (3.0.4)\n",
      "Requirement already satisfied: pillow>=6.2.0 in c:\\users\\eafrimpong\\music\\anaconda\\lib\\site-packages (from matplotlib->missingno) (9.0.1)\n",
      "Requirement already satisfied: kiwisolver>=1.0.1 in c:\\users\\eafrimpong\\music\\anaconda\\lib\\site-packages (from matplotlib->missingno) (1.3.2)\n",
      "Requirement already satisfied: python-dateutil>=2.7 in c:\\users\\eafrimpong\\music\\anaconda\\lib\\site-packages (from matplotlib->missingno) (2.8.2)\n",
      "Requirement already satisfied: fonttools>=4.22.0 in c:\\users\\eafrimpong\\music\\anaconda\\lib\\site-packages (from matplotlib->missingno) (4.25.0)\n",
      "Requirement already satisfied: cycler>=0.10 in c:\\users\\eafrimpong\\music\\anaconda\\lib\\site-packages (from matplotlib->missingno) (0.11.0)\n",
      "Requirement already satisfied: packaging>=20.0 in c:\\users\\eafrimpong\\music\\anaconda\\lib\\site-packages (from matplotlib->missingno) (21.3)\n",
      "Requirement already satisfied: six>=1.5 in c:\\users\\eafrimpong\\music\\anaconda\\lib\\site-packages (from python-dateutil>=2.7->matplotlib->missingno) (1.16.0)\n",
      "Requirement already satisfied: pandas>=0.23 in c:\\users\\eafrimpong\\music\\anaconda\\lib\\site-packages (from seaborn->missingno) (1.4.2)\n",
      "Requirement already satisfied: pytz>=2020.1 in c:\\users\\eafrimpong\\music\\anaconda\\lib\\site-packages (from pandas>=0.23->seaborn->missingno) (2021.3)\n"
     ]
    }
   ],
   "source": [
    "!pip install missingno"
   ]
  },
  {
   "cell_type": "code",
   "execution_count": 3,
   "id": "0fb8da0b",
   "metadata": {},
   "outputs": [],
   "source": [
    "# Load and open csv file using pandas\n",
    "\n",
    "database = pd.read_csv(\"Uncleaned_DS_jobs.csv\")"
   ]
  },
  {
   "cell_type": "code",
   "execution_count": 4,
   "id": "79fac63d",
   "metadata": {},
   "outputs": [
    {
     "data": {
      "text/html": [
       "<div>\n",
       "<style scoped>\n",
       "    .dataframe tbody tr th:only-of-type {\n",
       "        vertical-align: middle;\n",
       "    }\n",
       "\n",
       "    .dataframe tbody tr th {\n",
       "        vertical-align: top;\n",
       "    }\n",
       "\n",
       "    .dataframe thead th {\n",
       "        text-align: right;\n",
       "    }\n",
       "</style>\n",
       "<table border=\"1\" class=\"dataframe\">\n",
       "  <thead>\n",
       "    <tr style=\"text-align: right;\">\n",
       "      <th></th>\n",
       "      <th>index</th>\n",
       "      <th>Job Title</th>\n",
       "      <th>Salary Estimate</th>\n",
       "      <th>Job Description</th>\n",
       "      <th>Rating</th>\n",
       "      <th>Company Name</th>\n",
       "      <th>Location</th>\n",
       "      <th>Headquarters</th>\n",
       "      <th>Size</th>\n",
       "      <th>Founded</th>\n",
       "      <th>Type of ownership</th>\n",
       "      <th>Industry</th>\n",
       "      <th>Sector</th>\n",
       "      <th>Revenue</th>\n",
       "      <th>Competitors</th>\n",
       "    </tr>\n",
       "  </thead>\n",
       "  <tbody>\n",
       "    <tr>\n",
       "      <th>0</th>\n",
       "      <td>0</td>\n",
       "      <td>Sr Data Scientist</td>\n",
       "      <td>$137K-$171K (Glassdoor est.)</td>\n",
       "      <td>Description\\n\\nThe Senior Data Scientist is re...</td>\n",
       "      <td>3.1</td>\n",
       "      <td>Healthfirst\\n3.1</td>\n",
       "      <td>New York, NY</td>\n",
       "      <td>New York, NY</td>\n",
       "      <td>1001 to 5000 employees</td>\n",
       "      <td>1993</td>\n",
       "      <td>Nonprofit Organization</td>\n",
       "      <td>Insurance Carriers</td>\n",
       "      <td>Insurance</td>\n",
       "      <td>Unknown / Non-Applicable</td>\n",
       "      <td>EmblemHealth, UnitedHealth Group, Aetna</td>\n",
       "    </tr>\n",
       "    <tr>\n",
       "      <th>1</th>\n",
       "      <td>1</td>\n",
       "      <td>Data Scientist</td>\n",
       "      <td>$137K-$171K (Glassdoor est.)</td>\n",
       "      <td>Secure our Nation, Ignite your Future\\n\\nJoin ...</td>\n",
       "      <td>4.2</td>\n",
       "      <td>ManTech\\n4.2</td>\n",
       "      <td>Chantilly, VA</td>\n",
       "      <td>Herndon, VA</td>\n",
       "      <td>5001 to 10000 employees</td>\n",
       "      <td>1968</td>\n",
       "      <td>Company - Public</td>\n",
       "      <td>Research &amp; Development</td>\n",
       "      <td>Business Services</td>\n",
       "      <td>$1 to $2 billion (USD)</td>\n",
       "      <td>-1</td>\n",
       "    </tr>\n",
       "    <tr>\n",
       "      <th>2</th>\n",
       "      <td>2</td>\n",
       "      <td>Data Scientist</td>\n",
       "      <td>$137K-$171K (Glassdoor est.)</td>\n",
       "      <td>Overview\\n\\n\\nAnalysis Group is one of the lar...</td>\n",
       "      <td>3.8</td>\n",
       "      <td>Analysis Group\\n3.8</td>\n",
       "      <td>Boston, MA</td>\n",
       "      <td>Boston, MA</td>\n",
       "      <td>1001 to 5000 employees</td>\n",
       "      <td>1981</td>\n",
       "      <td>Private Practice / Firm</td>\n",
       "      <td>Consulting</td>\n",
       "      <td>Business Services</td>\n",
       "      <td>$100 to $500 million (USD)</td>\n",
       "      <td>-1</td>\n",
       "    </tr>\n",
       "    <tr>\n",
       "      <th>3</th>\n",
       "      <td>3</td>\n",
       "      <td>Data Scientist</td>\n",
       "      <td>$137K-$171K (Glassdoor est.)</td>\n",
       "      <td>JOB DESCRIPTION:\\n\\nDo you have a passion for ...</td>\n",
       "      <td>3.5</td>\n",
       "      <td>INFICON\\n3.5</td>\n",
       "      <td>Newton, MA</td>\n",
       "      <td>Bad Ragaz, Switzerland</td>\n",
       "      <td>501 to 1000 employees</td>\n",
       "      <td>2000</td>\n",
       "      <td>Company - Public</td>\n",
       "      <td>Electrical &amp; Electronic Manufacturing</td>\n",
       "      <td>Manufacturing</td>\n",
       "      <td>$100 to $500 million (USD)</td>\n",
       "      <td>MKS Instruments, Pfeiffer Vacuum, Agilent Tech...</td>\n",
       "    </tr>\n",
       "    <tr>\n",
       "      <th>4</th>\n",
       "      <td>4</td>\n",
       "      <td>Data Scientist</td>\n",
       "      <td>$137K-$171K (Glassdoor est.)</td>\n",
       "      <td>Data Scientist\\nAffinity Solutions / Marketing...</td>\n",
       "      <td>2.9</td>\n",
       "      <td>Affinity Solutions\\n2.9</td>\n",
       "      <td>New York, NY</td>\n",
       "      <td>New York, NY</td>\n",
       "      <td>51 to 200 employees</td>\n",
       "      <td>1998</td>\n",
       "      <td>Company - Private</td>\n",
       "      <td>Advertising &amp; Marketing</td>\n",
       "      <td>Business Services</td>\n",
       "      <td>Unknown / Non-Applicable</td>\n",
       "      <td>Commerce Signals, Cardlytics, Yodlee</td>\n",
       "    </tr>\n",
       "  </tbody>\n",
       "</table>\n",
       "</div>"
      ],
      "text/plain": [
       "   index          Job Title               Salary Estimate  \\\n",
       "0      0  Sr Data Scientist  $137K-$171K (Glassdoor est.)   \n",
       "1      1     Data Scientist  $137K-$171K (Glassdoor est.)   \n",
       "2      2     Data Scientist  $137K-$171K (Glassdoor est.)   \n",
       "3      3     Data Scientist  $137K-$171K (Glassdoor est.)   \n",
       "4      4     Data Scientist  $137K-$171K (Glassdoor est.)   \n",
       "\n",
       "                                     Job Description  Rating  \\\n",
       "0  Description\\n\\nThe Senior Data Scientist is re...     3.1   \n",
       "1  Secure our Nation, Ignite your Future\\n\\nJoin ...     4.2   \n",
       "2  Overview\\n\\n\\nAnalysis Group is one of the lar...     3.8   \n",
       "3  JOB DESCRIPTION:\\n\\nDo you have a passion for ...     3.5   \n",
       "4  Data Scientist\\nAffinity Solutions / Marketing...     2.9   \n",
       "\n",
       "              Company Name       Location            Headquarters  \\\n",
       "0         Healthfirst\\n3.1   New York, NY            New York, NY   \n",
       "1             ManTech\\n4.2  Chantilly, VA             Herndon, VA   \n",
       "2      Analysis Group\\n3.8     Boston, MA              Boston, MA   \n",
       "3             INFICON\\n3.5     Newton, MA  Bad Ragaz, Switzerland   \n",
       "4  Affinity Solutions\\n2.9   New York, NY            New York, NY   \n",
       "\n",
       "                      Size  Founded        Type of ownership  \\\n",
       "0   1001 to 5000 employees     1993   Nonprofit Organization   \n",
       "1  5001 to 10000 employees     1968         Company - Public   \n",
       "2   1001 to 5000 employees     1981  Private Practice / Firm   \n",
       "3    501 to 1000 employees     2000         Company - Public   \n",
       "4      51 to 200 employees     1998        Company - Private   \n",
       "\n",
       "                                Industry             Sector  \\\n",
       "0                     Insurance Carriers          Insurance   \n",
       "1                 Research & Development  Business Services   \n",
       "2                             Consulting  Business Services   \n",
       "3  Electrical & Electronic Manufacturing      Manufacturing   \n",
       "4                Advertising & Marketing  Business Services   \n",
       "\n",
       "                      Revenue  \\\n",
       "0    Unknown / Non-Applicable   \n",
       "1      $1 to $2 billion (USD)   \n",
       "2  $100 to $500 million (USD)   \n",
       "3  $100 to $500 million (USD)   \n",
       "4    Unknown / Non-Applicable   \n",
       "\n",
       "                                         Competitors  \n",
       "0            EmblemHealth, UnitedHealth Group, Aetna  \n",
       "1                                                 -1  \n",
       "2                                                 -1  \n",
       "3  MKS Instruments, Pfeiffer Vacuum, Agilent Tech...  \n",
       "4               Commerce Signals, Cardlytics, Yodlee  "
      ]
     },
     "execution_count": 4,
     "metadata": {},
     "output_type": "execute_result"
    }
   ],
   "source": [
    "# Print first 5 rows of the file\n",
    "\n",
    "database.head()"
   ]
  },
  {
   "cell_type": "code",
   "execution_count": 5,
   "id": "67a1d957",
   "metadata": {},
   "outputs": [
    {
     "data": {
      "text/html": [
       "<div>\n",
       "<style scoped>\n",
       "    .dataframe tbody tr th:only-of-type {\n",
       "        vertical-align: middle;\n",
       "    }\n",
       "\n",
       "    .dataframe tbody tr th {\n",
       "        vertical-align: top;\n",
       "    }\n",
       "\n",
       "    .dataframe thead th {\n",
       "        text-align: right;\n",
       "    }\n",
       "</style>\n",
       "<table border=\"1\" class=\"dataframe\">\n",
       "  <thead>\n",
       "    <tr style=\"text-align: right;\">\n",
       "      <th></th>\n",
       "      <th>index</th>\n",
       "      <th>Job Title</th>\n",
       "      <th>Salary Estimate</th>\n",
       "      <th>Job Description</th>\n",
       "      <th>Rating</th>\n",
       "      <th>Company Name</th>\n",
       "      <th>Location</th>\n",
       "      <th>Headquarters</th>\n",
       "      <th>Size</th>\n",
       "      <th>Founded</th>\n",
       "      <th>Type of ownership</th>\n",
       "      <th>Industry</th>\n",
       "      <th>Sector</th>\n",
       "      <th>Revenue</th>\n",
       "      <th>Competitors</th>\n",
       "    </tr>\n",
       "  </thead>\n",
       "  <tbody>\n",
       "    <tr>\n",
       "      <th>667</th>\n",
       "      <td>667</td>\n",
       "      <td>Data Scientist</td>\n",
       "      <td>$105K-$167K (Glassdoor est.)</td>\n",
       "      <td>Summary\\n\\nWe’re looking for a data scientist ...</td>\n",
       "      <td>3.6</td>\n",
       "      <td>TRANZACT\\n3.6</td>\n",
       "      <td>Fort Lee, NJ</td>\n",
       "      <td>Fort Lee, NJ</td>\n",
       "      <td>1001 to 5000 employees</td>\n",
       "      <td>1989</td>\n",
       "      <td>Company - Private</td>\n",
       "      <td>Advertising &amp; Marketing</td>\n",
       "      <td>Business Services</td>\n",
       "      <td>Unknown / Non-Applicable</td>\n",
       "      <td>-1</td>\n",
       "    </tr>\n",
       "    <tr>\n",
       "      <th>668</th>\n",
       "      <td>668</td>\n",
       "      <td>Data Scientist</td>\n",
       "      <td>$105K-$167K (Glassdoor est.)</td>\n",
       "      <td>Job Description\\nBecome a thought leader withi...</td>\n",
       "      <td>-1.0</td>\n",
       "      <td>JKGT</td>\n",
       "      <td>San Francisco, CA</td>\n",
       "      <td>-1</td>\n",
       "      <td>-1</td>\n",
       "      <td>-1</td>\n",
       "      <td>-1</td>\n",
       "      <td>-1</td>\n",
       "      <td>-1</td>\n",
       "      <td>-1</td>\n",
       "      <td>-1</td>\n",
       "    </tr>\n",
       "    <tr>\n",
       "      <th>669</th>\n",
       "      <td>669</td>\n",
       "      <td>Data Scientist</td>\n",
       "      <td>$105K-$167K (Glassdoor est.)</td>\n",
       "      <td>Join a thriving company that is changing the w...</td>\n",
       "      <td>-1.0</td>\n",
       "      <td>AccessHope</td>\n",
       "      <td>Irwindale, CA</td>\n",
       "      <td>-1</td>\n",
       "      <td>-1</td>\n",
       "      <td>-1</td>\n",
       "      <td>-1</td>\n",
       "      <td>-1</td>\n",
       "      <td>-1</td>\n",
       "      <td>-1</td>\n",
       "      <td>-1</td>\n",
       "    </tr>\n",
       "    <tr>\n",
       "      <th>670</th>\n",
       "      <td>670</td>\n",
       "      <td>Data Scientist</td>\n",
       "      <td>$105K-$167K (Glassdoor est.)</td>\n",
       "      <td>100 Remote Opportunity As an AINLP Data Scient...</td>\n",
       "      <td>5.0</td>\n",
       "      <td>ChaTeck Incorporated\\n5.0</td>\n",
       "      <td>San Francisco, CA</td>\n",
       "      <td>Santa Clara, CA</td>\n",
       "      <td>1 to 50 employees</td>\n",
       "      <td>-1</td>\n",
       "      <td>Company - Private</td>\n",
       "      <td>Advertising &amp; Marketing</td>\n",
       "      <td>Business Services</td>\n",
       "      <td>$1 to $5 million (USD)</td>\n",
       "      <td>-1</td>\n",
       "    </tr>\n",
       "    <tr>\n",
       "      <th>671</th>\n",
       "      <td>671</td>\n",
       "      <td>Data Scientist</td>\n",
       "      <td>$105K-$167K (Glassdoor est.)</td>\n",
       "      <td>Description\\n\\nThe Data Scientist will be part...</td>\n",
       "      <td>2.7</td>\n",
       "      <td>1-800-Flowers\\n2.7</td>\n",
       "      <td>New York, NY</td>\n",
       "      <td>Carle Place, NY</td>\n",
       "      <td>1001 to 5000 employees</td>\n",
       "      <td>1976</td>\n",
       "      <td>Company - Public</td>\n",
       "      <td>Wholesale</td>\n",
       "      <td>Business Services</td>\n",
       "      <td>$1 to $2 billion (USD)</td>\n",
       "      <td>-1</td>\n",
       "    </tr>\n",
       "  </tbody>\n",
       "</table>\n",
       "</div>"
      ],
      "text/plain": [
       "     index       Job Title               Salary Estimate  \\\n",
       "667    667  Data Scientist  $105K-$167K (Glassdoor est.)   \n",
       "668    668  Data Scientist  $105K-$167K (Glassdoor est.)   \n",
       "669    669  Data Scientist  $105K-$167K (Glassdoor est.)   \n",
       "670    670  Data Scientist  $105K-$167K (Glassdoor est.)   \n",
       "671    671  Data Scientist  $105K-$167K (Glassdoor est.)   \n",
       "\n",
       "                                       Job Description  Rating  \\\n",
       "667  Summary\\n\\nWe’re looking for a data scientist ...     3.6   \n",
       "668  Job Description\\nBecome a thought leader withi...    -1.0   \n",
       "669  Join a thriving company that is changing the w...    -1.0   \n",
       "670  100 Remote Opportunity As an AINLP Data Scient...     5.0   \n",
       "671  Description\\n\\nThe Data Scientist will be part...     2.7   \n",
       "\n",
       "                  Company Name           Location     Headquarters  \\\n",
       "667              TRANZACT\\n3.6       Fort Lee, NJ     Fort Lee, NJ   \n",
       "668                       JKGT  San Francisco, CA               -1   \n",
       "669                 AccessHope      Irwindale, CA               -1   \n",
       "670  ChaTeck Incorporated\\n5.0  San Francisco, CA  Santa Clara, CA   \n",
       "671         1-800-Flowers\\n2.7       New York, NY  Carle Place, NY   \n",
       "\n",
       "                       Size  Founded  Type of ownership  \\\n",
       "667  1001 to 5000 employees     1989  Company - Private   \n",
       "668                      -1       -1                 -1   \n",
       "669                      -1       -1                 -1   \n",
       "670       1 to 50 employees       -1  Company - Private   \n",
       "671  1001 to 5000 employees     1976   Company - Public   \n",
       "\n",
       "                    Industry             Sector                   Revenue  \\\n",
       "667  Advertising & Marketing  Business Services  Unknown / Non-Applicable   \n",
       "668                       -1                 -1                        -1   \n",
       "669                       -1                 -1                        -1   \n",
       "670  Advertising & Marketing  Business Services    $1 to $5 million (USD)   \n",
       "671                Wholesale  Business Services    $1 to $2 billion (USD)   \n",
       "\n",
       "    Competitors  \n",
       "667          -1  \n",
       "668          -1  \n",
       "669          -1  \n",
       "670          -1  \n",
       "671          -1  "
      ]
     },
     "execution_count": 5,
     "metadata": {},
     "output_type": "execute_result"
    }
   ],
   "source": [
    "# Print the last 5 of the file\n",
    "\n",
    "database.tail()"
   ]
  },
  {
   "cell_type": "code",
   "execution_count": 6,
   "id": "20520bcc",
   "metadata": {},
   "outputs": [
    {
     "data": {
      "text/html": [
       "<div>\n",
       "<style scoped>\n",
       "    .dataframe tbody tr th:only-of-type {\n",
       "        vertical-align: middle;\n",
       "    }\n",
       "\n",
       "    .dataframe tbody tr th {\n",
       "        vertical-align: top;\n",
       "    }\n",
       "\n",
       "    .dataframe thead th {\n",
       "        text-align: right;\n",
       "    }\n",
       "</style>\n",
       "<table border=\"1\" class=\"dataframe\">\n",
       "  <thead>\n",
       "    <tr style=\"text-align: right;\">\n",
       "      <th></th>\n",
       "      <th>index</th>\n",
       "      <th>Rating</th>\n",
       "      <th>Founded</th>\n",
       "    </tr>\n",
       "  </thead>\n",
       "  <tbody>\n",
       "    <tr>\n",
       "      <th>count</th>\n",
       "      <td>672.000000</td>\n",
       "      <td>672.000000</td>\n",
       "      <td>672.000000</td>\n",
       "    </tr>\n",
       "    <tr>\n",
       "      <th>mean</th>\n",
       "      <td>335.500000</td>\n",
       "      <td>3.518601</td>\n",
       "      <td>1635.529762</td>\n",
       "    </tr>\n",
       "    <tr>\n",
       "      <th>std</th>\n",
       "      <td>194.133974</td>\n",
       "      <td>1.410329</td>\n",
       "      <td>756.746640</td>\n",
       "    </tr>\n",
       "    <tr>\n",
       "      <th>min</th>\n",
       "      <td>0.000000</td>\n",
       "      <td>-1.000000</td>\n",
       "      <td>-1.000000</td>\n",
       "    </tr>\n",
       "    <tr>\n",
       "      <th>25%</th>\n",
       "      <td>167.750000</td>\n",
       "      <td>3.300000</td>\n",
       "      <td>1917.750000</td>\n",
       "    </tr>\n",
       "    <tr>\n",
       "      <th>50%</th>\n",
       "      <td>335.500000</td>\n",
       "      <td>3.800000</td>\n",
       "      <td>1995.000000</td>\n",
       "    </tr>\n",
       "    <tr>\n",
       "      <th>75%</th>\n",
       "      <td>503.250000</td>\n",
       "      <td>4.300000</td>\n",
       "      <td>2009.000000</td>\n",
       "    </tr>\n",
       "    <tr>\n",
       "      <th>max</th>\n",
       "      <td>671.000000</td>\n",
       "      <td>5.000000</td>\n",
       "      <td>2019.000000</td>\n",
       "    </tr>\n",
       "  </tbody>\n",
       "</table>\n",
       "</div>"
      ],
      "text/plain": [
       "            index      Rating      Founded\n",
       "count  672.000000  672.000000   672.000000\n",
       "mean   335.500000    3.518601  1635.529762\n",
       "std    194.133974    1.410329   756.746640\n",
       "min      0.000000   -1.000000    -1.000000\n",
       "25%    167.750000    3.300000  1917.750000\n",
       "50%    335.500000    3.800000  1995.000000\n",
       "75%    503.250000    4.300000  2009.000000\n",
       "max    671.000000    5.000000  2019.000000"
      ]
     },
     "execution_count": 6,
     "metadata": {},
     "output_type": "execute_result"
    }
   ],
   "source": [
    "# Describing  the file\n",
    "\n",
    "database.describe()"
   ]
  },
  {
   "cell_type": "code",
   "execution_count": 7,
   "id": "0294b755",
   "metadata": {},
   "outputs": [
    {
     "data": {
      "text/plain": [
       "(672, 15)"
      ]
     },
     "execution_count": 7,
     "metadata": {},
     "output_type": "execute_result"
    }
   ],
   "source": [
    "# Generating the shape of the file \n",
    "\n",
    "database.shape"
   ]
  },
  {
   "cell_type": "code",
   "execution_count": 8,
   "id": "0193201a",
   "metadata": {},
   "outputs": [
    {
     "data": {
      "text/plain": [
       "index                  int64\n",
       "Job Title             object\n",
       "Salary Estimate       object\n",
       "Job Description       object\n",
       "Rating               float64\n",
       "Company Name          object\n",
       "Location              object\n",
       "Headquarters          object\n",
       "Size                  object\n",
       "Founded                int64\n",
       "Type of ownership     object\n",
       "Industry              object\n",
       "Sector                object\n",
       "Revenue               object\n",
       "Competitors           object\n",
       "dtype: object"
      ]
     },
     "execution_count": 8,
     "metadata": {},
     "output_type": "execute_result"
    }
   ],
   "source": [
    "# Generate the datatype to check the datatype each column have \n",
    "\n",
    "database.dtypes"
   ]
  },
  {
   "cell_type": "code",
   "execution_count": 9,
   "id": "dcebcbe6",
   "metadata": {},
   "outputs": [],
   "source": [
    "# Creating a copy of the dataframe\n",
    "\n",
    "df = database.copy()"
   ]
  },
  {
   "cell_type": "code",
   "execution_count": 10,
   "id": "b372f7fe",
   "metadata": {},
   "outputs": [],
   "source": [
    "# Deleting dupicated index\n",
    "\n",
    "df.set_index(\"index\", inplace = True)"
   ]
  },
  {
   "cell_type": "code",
   "execution_count": 11,
   "id": "39f2b60b",
   "metadata": {},
   "outputs": [
    {
     "data": {
      "text/plain": [
       "CategoricalDtype(categories=['$101K-$165K', '$105K-$167K', '$110K-$163K', '$112K-$116K',\n",
       "                  '$122K-$146K', '$124K-$198K', '$128K-$201K', '$137K-$171K',\n",
       "                  '$138K-$158K', '$141K-$225K', '$145K-$225K', '$212K-$331K',\n",
       "                  '$31K-$56K', '$56K-$97K', '$66K-$112K', '$69K-$116K',\n",
       "                  '$71K-$123K', '$75K-$131K', '$79K-$106K', '$79K-$131K',\n",
       "                  '$79K-$133K', '$79K-$147K', '$80K-$132K', '$87K-$141K',\n",
       "                  '$90K-$109K', '$90K-$124K', '$91K-$150K', '$92K-$155K',\n",
       "                  '$95K-$119K', '$99K-$132K'],\n",
       ", ordered=False)"
      ]
     },
     "execution_count": 11,
     "metadata": {},
     "output_type": "execute_result"
    }
   ],
   "source": [
    "# Changing the datatype of Salary Estimate from object to category\n",
    "# Stripping (Glassdoor est. and Employer est.) \n",
    "\n",
    "cleaning_salary = df[\"Salary Estimate\"].str.strip((\"(Employer est.)(Glassdoor est.))\")).astype(\"category\")\n",
    "cleaning_salary.dtype"
   ]
  },
  {
   "cell_type": "code",
   "execution_count": 12,
   "id": "f67f511e",
   "metadata": {},
   "outputs": [
    {
     "data": {
      "text/plain": [
       "index\n",
       "0      $137K-$171K\n",
       "1      $137K-$171K\n",
       "2      $137K-$171K\n",
       "3      $137K-$171K\n",
       "4      $137K-$171K\n",
       "          ...     \n",
       "667    $105K-$167K\n",
       "668    $105K-$167K\n",
       "669    $105K-$167K\n",
       "670    $105K-$167K\n",
       "671    $105K-$167K\n",
       "Name: Salary Estimate, Length: 672, dtype: category\n",
       "Categories (30, object): ['$101K-$165K', '$105K-$167K', '$110K-$163K', '$112K-$116K', ..., '$91K-$150K', '$92K-$155K', '$95K-$119K', '$99K-$132K']"
      ]
     },
     "execution_count": 12,
     "metadata": {},
     "output_type": "execute_result"
    }
   ],
   "source": [
    "# Replacing the cleaning_salary into the dataframe\n",
    "\n",
    "df[\"Salary Estimate\"] = cleaning_salary\n",
    "df[\"Salary Estimate\"]"
   ]
  },
  {
   "cell_type": "code",
   "execution_count": 13,
   "id": "5847b6c6",
   "metadata": {},
   "outputs": [
    {
     "data": {
      "text/html": [
       "<div>\n",
       "<style scoped>\n",
       "    .dataframe tbody tr th:only-of-type {\n",
       "        vertical-align: middle;\n",
       "    }\n",
       "\n",
       "    .dataframe tbody tr th {\n",
       "        vertical-align: top;\n",
       "    }\n",
       "\n",
       "    .dataframe thead th {\n",
       "        text-align: right;\n",
       "    }\n",
       "</style>\n",
       "<table border=\"1\" class=\"dataframe\">\n",
       "  <thead>\n",
       "    <tr style=\"text-align: right;\">\n",
       "      <th></th>\n",
       "      <th>0</th>\n",
       "    </tr>\n",
       "  </thead>\n",
       "  <tbody>\n",
       "    <tr>\n",
       "      <th>0</th>\n",
       "      <td>Healthfirst\\n3.1</td>\n",
       "    </tr>\n",
       "    <tr>\n",
       "      <th>1</th>\n",
       "      <td>ManTech\\n4.2</td>\n",
       "    </tr>\n",
       "    <tr>\n",
       "      <th>2</th>\n",
       "      <td>Analysis Group\\n3.8</td>\n",
       "    </tr>\n",
       "    <tr>\n",
       "      <th>3</th>\n",
       "      <td>INFICON\\n3.5</td>\n",
       "    </tr>\n",
       "    <tr>\n",
       "      <th>4</th>\n",
       "      <td>Affinity Solutions\\n2.9</td>\n",
       "    </tr>\n",
       "    <tr>\n",
       "      <th>...</th>\n",
       "      <td>...</td>\n",
       "    </tr>\n",
       "    <tr>\n",
       "      <th>427</th>\n",
       "      <td>Foundation Medicine\\n4.0</td>\n",
       "    </tr>\n",
       "    <tr>\n",
       "      <th>428</th>\n",
       "      <td>TRANZACT\\n3.6</td>\n",
       "    </tr>\n",
       "    <tr>\n",
       "      <th>429</th>\n",
       "      <td>JKGT</td>\n",
       "    </tr>\n",
       "    <tr>\n",
       "      <th>430</th>\n",
       "      <td>AccessHope</td>\n",
       "    </tr>\n",
       "    <tr>\n",
       "      <th>431</th>\n",
       "      <td>ChaTeck Incorporated\\n5.0</td>\n",
       "    </tr>\n",
       "  </tbody>\n",
       "</table>\n",
       "<p>432 rows × 1 columns</p>\n",
       "</div>"
      ],
      "text/plain": [
       "                             0\n",
       "0             Healthfirst\\n3.1\n",
       "1                 ManTech\\n4.2\n",
       "2          Analysis Group\\n3.8\n",
       "3                 INFICON\\n3.5\n",
       "4      Affinity Solutions\\n2.9\n",
       "..                         ...\n",
       "427   Foundation Medicine\\n4.0\n",
       "428              TRANZACT\\n3.6\n",
       "429                       JKGT\n",
       "430                 AccessHope\n",
       "431  ChaTeck Incorporated\\n5.0\n",
       "\n",
       "[432 rows x 1 columns]"
      ]
     },
     "execution_count": 13,
     "metadata": {},
     "output_type": "execute_result"
    }
   ],
   "source": [
    "# Generating the total number of Companies\n",
    "\n",
    "company_name = [df[\"Company Name\"].unique()]\n",
    "pd.DataFrame(company_name).transpose()"
   ]
  },
  {
   "cell_type": "code",
   "execution_count": 14,
   "id": "08b1a6b2",
   "metadata": {},
   "outputs": [
    {
     "data": {
      "text/plain": [
       "index\n",
       "0               Healthfirst\n",
       "1                   ManTech\n",
       "2            Analysis Group\n",
       "3                   INFICON\n",
       "4        Affinity Solutions\n",
       "               ...         \n",
       "667                TRANZACT\n",
       "668                    JKGT\n",
       "669              AccessHope\n",
       "670    ChaTeck Incorporated\n",
       "671           1-800-Flowers\n",
       "Name: Company Name, Length: 672, dtype: object"
      ]
     },
     "execution_count": 14,
     "metadata": {},
     "output_type": "execute_result"
    }
   ],
   "source": [
    "# Cleaning the company column\n",
    "\n",
    "split_company_name = df[\"Company Name\"].str.split('\\n').str[0]\n",
    "clean_names = split_company_name\n",
    "clean_names"
   ]
  },
  {
   "cell_type": "code",
   "execution_count": 15,
   "id": "8fef558c",
   "metadata": {},
   "outputs": [],
   "source": [
    "# Adding to the dataframe\n",
    "\n",
    "df[\"Company Name\"] = clean_names"
   ]
  },
  {
   "cell_type": "code",
   "execution_count": 16,
   "id": "878fa551",
   "metadata": {},
   "outputs": [
    {
     "data": {
      "text/plain": [
       "index\n",
       "0               Healthfirst\n",
       "1                   ManTech\n",
       "2            Analysis Group\n",
       "3                   INFICON\n",
       "4        Affinity Solutions\n",
       "               ...         \n",
       "667                TRANZACT\n",
       "668                    JKGT\n",
       "669              AccessHope\n",
       "670    ChaTeck Incorporated\n",
       "671           1-800-Flowers\n",
       "Name: Company Name, Length: 672, dtype: object"
      ]
     },
     "execution_count": 16,
     "metadata": {},
     "output_type": "execute_result"
    }
   ],
   "source": [
    "df[\"Company Name\"]"
   ]
  },
  {
   "cell_type": "code",
   "execution_count": 17,
   "id": "d18bf96a",
   "metadata": {},
   "outputs": [
    {
     "data": {
      "text/plain": [
       "index\n",
       "0      Description  The Senior Data Scientist is resp...\n",
       "1      Secure our Nation, Ignite your Future  Join th...\n",
       "2      Overview   Analysis Group is one of the larges...\n",
       "3      JOB DESCRIPTION:  Do you have a passion for Da...\n",
       "4      Data Scientist Affinity Solutions / Marketing ...\n",
       "                             ...                        \n",
       "667    Summary  We’re looking for a data scientist to...\n",
       "668    Job Description Become a thought leader within...\n",
       "669    Join a thriving company that is changing the w...\n",
       "670    100 Remote Opportunity As an AINLP Data Scient...\n",
       "671    Description  The Data Scientist will be part o...\n",
       "Name: Job Description, Length: 672, dtype: object"
      ]
     },
     "execution_count": 17,
     "metadata": {},
     "output_type": "execute_result"
    }
   ],
   "source": [
    "# Cleaning Job Description\n",
    "\n",
    "cleaning_jd = df[\"Job Description\"].str.replace(\"\\n\", \" \")\n",
    "cleaning_jd"
   ]
  },
  {
   "cell_type": "code",
   "execution_count": 18,
   "id": "2f03ba8c",
   "metadata": {},
   "outputs": [],
   "source": [
    "# Adding cleaned Job Description to the dataframe\n",
    "\n",
    "df[\"Job Description\"] = cleaning_jd"
   ]
  },
  {
   "cell_type": "code",
   "execution_count": 19,
   "id": "112004ed",
   "metadata": {
    "scrolled": true
   },
   "outputs": [
    {
     "name": "stdout",
     "output_type": "stream",
     "text": [
      "<class 'pandas.core.frame.DataFrame'>\n",
      "Int64Index: 672 entries, 0 to 671\n",
      "Data columns (total 14 columns):\n",
      " #   Column             Non-Null Count  Dtype   \n",
      "---  ------             --------------  -----   \n",
      " 0   Job Title          672 non-null    object  \n",
      " 1   Salary Estimate    672 non-null    category\n",
      " 2   Job Description    672 non-null    object  \n",
      " 3   Rating             672 non-null    float64 \n",
      " 4   Company Name       672 non-null    object  \n",
      " 5   Location           672 non-null    object  \n",
      " 6   Headquarters       672 non-null    object  \n",
      " 7   Size               672 non-null    object  \n",
      " 8   Founded            672 non-null    int64   \n",
      " 9   Type of ownership  672 non-null    object  \n",
      " 10  Industry           672 non-null    object  \n",
      " 11  Sector             672 non-null    object  \n",
      " 12  Revenue            672 non-null    object  \n",
      " 13  Competitors        672 non-null    object  \n",
      "dtypes: category(1), float64(1), int64(1), object(11)\n",
      "memory usage: 75.4+ KB\n"
     ]
    }
   ],
   "source": [
    "# Checking dataframe Info\n",
    "\n",
    "df.info()"
   ]
  },
  {
   "cell_type": "code",
   "execution_count": 20,
   "id": "ba812502",
   "metadata": {
    "scrolled": true
   },
   "outputs": [
    {
     "data": {
      "text/plain": [
       "index\n",
       "0      False\n",
       "1      False\n",
       "2      False\n",
       "3      False\n",
       "4      False\n",
       "       ...  \n",
       "667    False\n",
       "668    False\n",
       "669    False\n",
       "670    False\n",
       "671    False\n",
       "Length: 672, dtype: bool"
      ]
     },
     "execution_count": 20,
     "metadata": {},
     "output_type": "execute_result"
    }
   ],
   "source": [
    "# Checking for duplicates\n",
    "\n",
    "duplicates = df.duplicated(keep = False)\n",
    "duplicates"
   ]
  },
  {
   "cell_type": "code",
   "execution_count": 21,
   "id": "0f23557e",
   "metadata": {
    "scrolled": false
   },
   "outputs": [],
   "source": [
    "# Generating the duplicate values\n",
    "\n",
    "duplicated_values = df[duplicates].sort_values(\"Job Title\")"
   ]
  },
  {
   "cell_type": "code",
   "execution_count": 22,
   "id": "a81f430e",
   "metadata": {},
   "outputs": [
    {
     "data": {
      "text/html": [
       "<div>\n",
       "<style scoped>\n",
       "    .dataframe tbody tr th:only-of-type {\n",
       "        vertical-align: middle;\n",
       "    }\n",
       "\n",
       "    .dataframe tbody tr th {\n",
       "        vertical-align: top;\n",
       "    }\n",
       "\n",
       "    .dataframe thead th {\n",
       "        text-align: right;\n",
       "    }\n",
       "</style>\n",
       "<table border=\"1\" class=\"dataframe\">\n",
       "  <thead>\n",
       "    <tr style=\"text-align: right;\">\n",
       "      <th></th>\n",
       "      <th>Job Title</th>\n",
       "      <th>Salary Estimate</th>\n",
       "      <th>Job Description</th>\n",
       "      <th>Rating</th>\n",
       "      <th>Company Name</th>\n",
       "      <th>Location</th>\n",
       "      <th>Headquarters</th>\n",
       "      <th>Size</th>\n",
       "      <th>Founded</th>\n",
       "      <th>Type of ownership</th>\n",
       "      <th>Industry</th>\n",
       "      <th>Sector</th>\n",
       "      <th>Revenue</th>\n",
       "      <th>Competitors</th>\n",
       "    </tr>\n",
       "    <tr>\n",
       "      <th>index</th>\n",
       "      <th></th>\n",
       "      <th></th>\n",
       "      <th></th>\n",
       "      <th></th>\n",
       "      <th></th>\n",
       "      <th></th>\n",
       "      <th></th>\n",
       "      <th></th>\n",
       "      <th></th>\n",
       "      <th></th>\n",
       "      <th></th>\n",
       "      <th></th>\n",
       "      <th></th>\n",
       "      <th></th>\n",
       "    </tr>\n",
       "  </thead>\n",
       "  <tbody>\n",
       "    <tr>\n",
       "      <th>361</th>\n",
       "      <td>Data Scientist</td>\n",
       "      <td>$122K-$146K</td>\n",
       "      <td>Job Overview: The Data Scientist is a key memb...</td>\n",
       "      <td>-1.0</td>\n",
       "      <td>Hatch Data Inc</td>\n",
       "      <td>San Francisco, CA</td>\n",
       "      <td>-1</td>\n",
       "      <td>-1</td>\n",
       "      <td>-1</td>\n",
       "      <td>-1</td>\n",
       "      <td>-1</td>\n",
       "      <td>-1</td>\n",
       "      <td>-1</td>\n",
       "      <td>-1</td>\n",
       "    </tr>\n",
       "    <tr>\n",
       "      <th>498</th>\n",
       "      <td>Data Scientist</td>\n",
       "      <td>$95K-$119K</td>\n",
       "      <td>Job Overview: The Data Scientist is a key memb...</td>\n",
       "      <td>-1.0</td>\n",
       "      <td>Hatch Data Inc</td>\n",
       "      <td>San Francisco, CA</td>\n",
       "      <td>-1</td>\n",
       "      <td>-1</td>\n",
       "      <td>-1</td>\n",
       "      <td>-1</td>\n",
       "      <td>-1</td>\n",
       "      <td>-1</td>\n",
       "      <td>-1</td>\n",
       "      <td>-1</td>\n",
       "    </tr>\n",
       "    <tr>\n",
       "      <th>497</th>\n",
       "      <td>Data Scientist</td>\n",
       "      <td>$95K-$119K</td>\n",
       "      <td>Job Overview: The Data Scientist is a key memb...</td>\n",
       "      <td>-1.0</td>\n",
       "      <td>Hatch Data Inc</td>\n",
       "      <td>San Francisco, CA</td>\n",
       "      <td>-1</td>\n",
       "      <td>-1</td>\n",
       "      <td>-1</td>\n",
       "      <td>-1</td>\n",
       "      <td>-1</td>\n",
       "      <td>-1</td>\n",
       "      <td>-1</td>\n",
       "      <td>-1</td>\n",
       "    </tr>\n",
       "    <tr>\n",
       "      <th>496</th>\n",
       "      <td>Data Scientist</td>\n",
       "      <td>$95K-$119K</td>\n",
       "      <td>Job Overview: The Data Scientist is a key memb...</td>\n",
       "      <td>-1.0</td>\n",
       "      <td>Hatch Data Inc</td>\n",
       "      <td>San Francisco, CA</td>\n",
       "      <td>-1</td>\n",
       "      <td>-1</td>\n",
       "      <td>-1</td>\n",
       "      <td>-1</td>\n",
       "      <td>-1</td>\n",
       "      <td>-1</td>\n",
       "      <td>-1</td>\n",
       "      <td>-1</td>\n",
       "    </tr>\n",
       "    <tr>\n",
       "      <th>495</th>\n",
       "      <td>Data Scientist</td>\n",
       "      <td>$95K-$119K</td>\n",
       "      <td>Job Overview: The Data Scientist is a key memb...</td>\n",
       "      <td>-1.0</td>\n",
       "      <td>Hatch Data Inc</td>\n",
       "      <td>San Francisco, CA</td>\n",
       "      <td>-1</td>\n",
       "      <td>-1</td>\n",
       "      <td>-1</td>\n",
       "      <td>-1</td>\n",
       "      <td>-1</td>\n",
       "      <td>-1</td>\n",
       "      <td>-1</td>\n",
       "      <td>-1</td>\n",
       "    </tr>\n",
       "    <tr>\n",
       "      <th>389</th>\n",
       "      <td>Data Scientist</td>\n",
       "      <td>$110K-$163K</td>\n",
       "      <td>Job Description As a Data Scientist, you will ...</td>\n",
       "      <td>-1.0</td>\n",
       "      <td>HireAi</td>\n",
       "      <td>San Francisco, CA</td>\n",
       "      <td>-1</td>\n",
       "      <td>-1</td>\n",
       "      <td>-1</td>\n",
       "      <td>-1</td>\n",
       "      <td>-1</td>\n",
       "      <td>-1</td>\n",
       "      <td>-1</td>\n",
       "      <td>-1</td>\n",
       "    </tr>\n",
       "    <tr>\n",
       "      <th>388</th>\n",
       "      <td>Data Scientist</td>\n",
       "      <td>$110K-$163K</td>\n",
       "      <td>Job Description As a Data Scientist, you will ...</td>\n",
       "      <td>-1.0</td>\n",
       "      <td>HireAi</td>\n",
       "      <td>San Francisco, CA</td>\n",
       "      <td>-1</td>\n",
       "      <td>-1</td>\n",
       "      <td>-1</td>\n",
       "      <td>-1</td>\n",
       "      <td>-1</td>\n",
       "      <td>-1</td>\n",
       "      <td>-1</td>\n",
       "      <td>-1</td>\n",
       "    </tr>\n",
       "    <tr>\n",
       "      <th>362</th>\n",
       "      <td>Data Scientist</td>\n",
       "      <td>$122K-$146K</td>\n",
       "      <td>Job Overview: The Data Scientist is a key memb...</td>\n",
       "      <td>-1.0</td>\n",
       "      <td>Hatch Data Inc</td>\n",
       "      <td>San Francisco, CA</td>\n",
       "      <td>-1</td>\n",
       "      <td>-1</td>\n",
       "      <td>-1</td>\n",
       "      <td>-1</td>\n",
       "      <td>-1</td>\n",
       "      <td>-1</td>\n",
       "      <td>-1</td>\n",
       "      <td>-1</td>\n",
       "    </tr>\n",
       "    <tr>\n",
       "      <th>500</th>\n",
       "      <td>Data Scientist</td>\n",
       "      <td>$95K-$119K</td>\n",
       "      <td>Job Overview: The Data Scientist is a key memb...</td>\n",
       "      <td>-1.0</td>\n",
       "      <td>Hatch Data Inc</td>\n",
       "      <td>San Francisco, CA</td>\n",
       "      <td>-1</td>\n",
       "      <td>-1</td>\n",
       "      <td>-1</td>\n",
       "      <td>-1</td>\n",
       "      <td>-1</td>\n",
       "      <td>-1</td>\n",
       "      <td>-1</td>\n",
       "      <td>-1</td>\n",
       "    </tr>\n",
       "    <tr>\n",
       "      <th>360</th>\n",
       "      <td>Data Scientist</td>\n",
       "      <td>$122K-$146K</td>\n",
       "      <td>Job Overview: The Data Scientist is a key memb...</td>\n",
       "      <td>-1.0</td>\n",
       "      <td>Hatch Data Inc</td>\n",
       "      <td>San Francisco, CA</td>\n",
       "      <td>-1</td>\n",
       "      <td>-1</td>\n",
       "      <td>-1</td>\n",
       "      <td>-1</td>\n",
       "      <td>-1</td>\n",
       "      <td>-1</td>\n",
       "      <td>-1</td>\n",
       "      <td>-1</td>\n",
       "    </tr>\n",
       "    <tr>\n",
       "      <th>359</th>\n",
       "      <td>Data Scientist</td>\n",
       "      <td>$122K-$146K</td>\n",
       "      <td>Job Overview: The Data Scientist is a key memb...</td>\n",
       "      <td>-1.0</td>\n",
       "      <td>Hatch Data Inc</td>\n",
       "      <td>San Francisco, CA</td>\n",
       "      <td>-1</td>\n",
       "      <td>-1</td>\n",
       "      <td>-1</td>\n",
       "      <td>-1</td>\n",
       "      <td>-1</td>\n",
       "      <td>-1</td>\n",
       "      <td>-1</td>\n",
       "      <td>-1</td>\n",
       "    </tr>\n",
       "    <tr>\n",
       "      <th>358</th>\n",
       "      <td>Data Scientist</td>\n",
       "      <td>$122K-$146K</td>\n",
       "      <td>Job Overview: The Data Scientist is a key memb...</td>\n",
       "      <td>-1.0</td>\n",
       "      <td>Hatch Data Inc</td>\n",
       "      <td>San Francisco, CA</td>\n",
       "      <td>-1</td>\n",
       "      <td>-1</td>\n",
       "      <td>-1</td>\n",
       "      <td>-1</td>\n",
       "      <td>-1</td>\n",
       "      <td>-1</td>\n",
       "      <td>-1</td>\n",
       "      <td>-1</td>\n",
       "    </tr>\n",
       "    <tr>\n",
       "      <th>357</th>\n",
       "      <td>Data Scientist</td>\n",
       "      <td>$122K-$146K</td>\n",
       "      <td>Job Overview: The Data Scientist is a key memb...</td>\n",
       "      <td>-1.0</td>\n",
       "      <td>Hatch Data Inc</td>\n",
       "      <td>San Francisco, CA</td>\n",
       "      <td>-1</td>\n",
       "      <td>-1</td>\n",
       "      <td>-1</td>\n",
       "      <td>-1</td>\n",
       "      <td>-1</td>\n",
       "      <td>-1</td>\n",
       "      <td>-1</td>\n",
       "      <td>-1</td>\n",
       "    </tr>\n",
       "    <tr>\n",
       "      <th>499</th>\n",
       "      <td>Data Scientist</td>\n",
       "      <td>$95K-$119K</td>\n",
       "      <td>Job Overview: The Data Scientist is a key memb...</td>\n",
       "      <td>-1.0</td>\n",
       "      <td>Hatch Data Inc</td>\n",
       "      <td>San Francisco, CA</td>\n",
       "      <td>-1</td>\n",
       "      <td>-1</td>\n",
       "      <td>-1</td>\n",
       "      <td>-1</td>\n",
       "      <td>-1</td>\n",
       "      <td>-1</td>\n",
       "      <td>-1</td>\n",
       "      <td>-1</td>\n",
       "    </tr>\n",
       "    <tr>\n",
       "      <th>135</th>\n",
       "      <td>Machine Learning Engineer</td>\n",
       "      <td>$90K-$109K</td>\n",
       "      <td>Role Description Triplebyte screens and evalua...</td>\n",
       "      <td>3.2</td>\n",
       "      <td>Triplebyte</td>\n",
       "      <td>Remote</td>\n",
       "      <td>San Francisco, CA</td>\n",
       "      <td>51 to 200 employees</td>\n",
       "      <td>2015</td>\n",
       "      <td>Company - Private</td>\n",
       "      <td>Computer Hardware &amp; Software</td>\n",
       "      <td>Information Technology</td>\n",
       "      <td>Unknown / Non-Applicable</td>\n",
       "      <td>-1</td>\n",
       "    </tr>\n",
       "    <tr>\n",
       "      <th>134</th>\n",
       "      <td>Machine Learning Engineer</td>\n",
       "      <td>$90K-$109K</td>\n",
       "      <td>Role Description Triplebyte screens and evalua...</td>\n",
       "      <td>3.2</td>\n",
       "      <td>Triplebyte</td>\n",
       "      <td>Remote</td>\n",
       "      <td>San Francisco, CA</td>\n",
       "      <td>51 to 200 employees</td>\n",
       "      <td>2015</td>\n",
       "      <td>Company - Private</td>\n",
       "      <td>Computer Hardware &amp; Software</td>\n",
       "      <td>Information Technology</td>\n",
       "      <td>Unknown / Non-Applicable</td>\n",
       "      <td>-1</td>\n",
       "    </tr>\n",
       "    <tr>\n",
       "      <th>136</th>\n",
       "      <td>Senior Data Engineer</td>\n",
       "      <td>$90K-$109K</td>\n",
       "      <td>Lendio is looking to fill a position for a Sen...</td>\n",
       "      <td>4.9</td>\n",
       "      <td>Lendio</td>\n",
       "      <td>Lehi, UT</td>\n",
       "      <td>Lehi, UT</td>\n",
       "      <td>201 to 500 employees</td>\n",
       "      <td>2011</td>\n",
       "      <td>Company - Private</td>\n",
       "      <td>Lending</td>\n",
       "      <td>Finance</td>\n",
       "      <td>$50 to $100 million (USD)</td>\n",
       "      <td>-1</td>\n",
       "    </tr>\n",
       "    <tr>\n",
       "      <th>131</th>\n",
       "      <td>Senior Data Engineer</td>\n",
       "      <td>$90K-$109K</td>\n",
       "      <td>Lendio is looking to fill a position for a Sen...</td>\n",
       "      <td>4.9</td>\n",
       "      <td>Lendio</td>\n",
       "      <td>Lehi, UT</td>\n",
       "      <td>Lehi, UT</td>\n",
       "      <td>201 to 500 employees</td>\n",
       "      <td>2011</td>\n",
       "      <td>Company - Private</td>\n",
       "      <td>Lending</td>\n",
       "      <td>Finance</td>\n",
       "      <td>$50 to $100 million (USD)</td>\n",
       "      <td>-1</td>\n",
       "    </tr>\n",
       "  </tbody>\n",
       "</table>\n",
       "</div>"
      ],
      "text/plain": [
       "                       Job Title Salary Estimate  \\\n",
       "index                                              \n",
       "361               Data Scientist     $122K-$146K   \n",
       "498               Data Scientist      $95K-$119K   \n",
       "497               Data Scientist      $95K-$119K   \n",
       "496               Data Scientist      $95K-$119K   \n",
       "495               Data Scientist      $95K-$119K   \n",
       "389               Data Scientist     $110K-$163K   \n",
       "388               Data Scientist     $110K-$163K   \n",
       "362               Data Scientist     $122K-$146K   \n",
       "500               Data Scientist      $95K-$119K   \n",
       "360               Data Scientist     $122K-$146K   \n",
       "359               Data Scientist     $122K-$146K   \n",
       "358               Data Scientist     $122K-$146K   \n",
       "357               Data Scientist     $122K-$146K   \n",
       "499               Data Scientist      $95K-$119K   \n",
       "135    Machine Learning Engineer      $90K-$109K   \n",
       "134    Machine Learning Engineer      $90K-$109K   \n",
       "136         Senior Data Engineer      $90K-$109K   \n",
       "131         Senior Data Engineer      $90K-$109K   \n",
       "\n",
       "                                         Job Description  Rating  \\\n",
       "index                                                              \n",
       "361    Job Overview: The Data Scientist is a key memb...    -1.0   \n",
       "498    Job Overview: The Data Scientist is a key memb...    -1.0   \n",
       "497    Job Overview: The Data Scientist is a key memb...    -1.0   \n",
       "496    Job Overview: The Data Scientist is a key memb...    -1.0   \n",
       "495    Job Overview: The Data Scientist is a key memb...    -1.0   \n",
       "389    Job Description As a Data Scientist, you will ...    -1.0   \n",
       "388    Job Description As a Data Scientist, you will ...    -1.0   \n",
       "362    Job Overview: The Data Scientist is a key memb...    -1.0   \n",
       "500    Job Overview: The Data Scientist is a key memb...    -1.0   \n",
       "360    Job Overview: The Data Scientist is a key memb...    -1.0   \n",
       "359    Job Overview: The Data Scientist is a key memb...    -1.0   \n",
       "358    Job Overview: The Data Scientist is a key memb...    -1.0   \n",
       "357    Job Overview: The Data Scientist is a key memb...    -1.0   \n",
       "499    Job Overview: The Data Scientist is a key memb...    -1.0   \n",
       "135    Role Description Triplebyte screens and evalua...     3.2   \n",
       "134    Role Description Triplebyte screens and evalua...     3.2   \n",
       "136    Lendio is looking to fill a position for a Sen...     4.9   \n",
       "131    Lendio is looking to fill a position for a Sen...     4.9   \n",
       "\n",
       "         Company Name           Location       Headquarters  \\\n",
       "index                                                         \n",
       "361    Hatch Data Inc  San Francisco, CA                 -1   \n",
       "498    Hatch Data Inc  San Francisco, CA                 -1   \n",
       "497    Hatch Data Inc  San Francisco, CA                 -1   \n",
       "496    Hatch Data Inc  San Francisco, CA                 -1   \n",
       "495    Hatch Data Inc  San Francisco, CA                 -1   \n",
       "389            HireAi  San Francisco, CA                 -1   \n",
       "388            HireAi  San Francisco, CA                 -1   \n",
       "362    Hatch Data Inc  San Francisco, CA                 -1   \n",
       "500    Hatch Data Inc  San Francisco, CA                 -1   \n",
       "360    Hatch Data Inc  San Francisco, CA                 -1   \n",
       "359    Hatch Data Inc  San Francisco, CA                 -1   \n",
       "358    Hatch Data Inc  San Francisco, CA                 -1   \n",
       "357    Hatch Data Inc  San Francisco, CA                 -1   \n",
       "499    Hatch Data Inc  San Francisco, CA                 -1   \n",
       "135        Triplebyte             Remote  San Francisco, CA   \n",
       "134        Triplebyte             Remote  San Francisco, CA   \n",
       "136            Lendio           Lehi, UT           Lehi, UT   \n",
       "131            Lendio           Lehi, UT           Lehi, UT   \n",
       "\n",
       "                       Size  Founded  Type of ownership  \\\n",
       "index                                                     \n",
       "361                      -1       -1                 -1   \n",
       "498                      -1       -1                 -1   \n",
       "497                      -1       -1                 -1   \n",
       "496                      -1       -1                 -1   \n",
       "495                      -1       -1                 -1   \n",
       "389                      -1       -1                 -1   \n",
       "388                      -1       -1                 -1   \n",
       "362                      -1       -1                 -1   \n",
       "500                      -1       -1                 -1   \n",
       "360                      -1       -1                 -1   \n",
       "359                      -1       -1                 -1   \n",
       "358                      -1       -1                 -1   \n",
       "357                      -1       -1                 -1   \n",
       "499                      -1       -1                 -1   \n",
       "135     51 to 200 employees     2015  Company - Private   \n",
       "134     51 to 200 employees     2015  Company - Private   \n",
       "136    201 to 500 employees     2011  Company - Private   \n",
       "131    201 to 500 employees     2011  Company - Private   \n",
       "\n",
       "                           Industry                  Sector  \\\n",
       "index                                                         \n",
       "361                              -1                      -1   \n",
       "498                              -1                      -1   \n",
       "497                              -1                      -1   \n",
       "496                              -1                      -1   \n",
       "495                              -1                      -1   \n",
       "389                              -1                      -1   \n",
       "388                              -1                      -1   \n",
       "362                              -1                      -1   \n",
       "500                              -1                      -1   \n",
       "360                              -1                      -1   \n",
       "359                              -1                      -1   \n",
       "358                              -1                      -1   \n",
       "357                              -1                      -1   \n",
       "499                              -1                      -1   \n",
       "135    Computer Hardware & Software  Information Technology   \n",
       "134    Computer Hardware & Software  Information Technology   \n",
       "136                         Lending                 Finance   \n",
       "131                         Lending                 Finance   \n",
       "\n",
       "                         Revenue Competitors  \n",
       "index                                         \n",
       "361                           -1          -1  \n",
       "498                           -1          -1  \n",
       "497                           -1          -1  \n",
       "496                           -1          -1  \n",
       "495                           -1          -1  \n",
       "389                           -1          -1  \n",
       "388                           -1          -1  \n",
       "362                           -1          -1  \n",
       "500                           -1          -1  \n",
       "360                           -1          -1  \n",
       "359                           -1          -1  \n",
       "358                           -1          -1  \n",
       "357                           -1          -1  \n",
       "499                           -1          -1  \n",
       "135     Unknown / Non-Applicable          -1  \n",
       "134     Unknown / Non-Applicable          -1  \n",
       "136    $50 to $100 million (USD)          -1  \n",
       "131    $50 to $100 million (USD)          -1  "
      ]
     },
     "execution_count": 22,
     "metadata": {},
     "output_type": "execute_result"
    }
   ],
   "source": [
    "duplicated_values"
   ]
  },
  {
   "cell_type": "code",
   "execution_count": 23,
   "id": "8ffee9de",
   "metadata": {},
   "outputs": [
    {
     "data": {
      "text/html": [
       "<div>\n",
       "<style scoped>\n",
       "    .dataframe tbody tr th:only-of-type {\n",
       "        vertical-align: middle;\n",
       "    }\n",
       "\n",
       "    .dataframe tbody tr th {\n",
       "        vertical-align: top;\n",
       "    }\n",
       "\n",
       "    .dataframe thead th {\n",
       "        text-align: right;\n",
       "    }\n",
       "</style>\n",
       "<table border=\"1\" class=\"dataframe\">\n",
       "  <thead>\n",
       "    <tr style=\"text-align: right;\">\n",
       "      <th></th>\n",
       "      <th>Job Title</th>\n",
       "      <th>Salary Estimate</th>\n",
       "      <th>Job Description</th>\n",
       "      <th>Rating</th>\n",
       "      <th>Company Name</th>\n",
       "      <th>Location</th>\n",
       "      <th>Headquarters</th>\n",
       "      <th>Size</th>\n",
       "      <th>Founded</th>\n",
       "      <th>Type of ownership</th>\n",
       "      <th>Industry</th>\n",
       "      <th>Sector</th>\n",
       "      <th>Revenue</th>\n",
       "      <th>Competitors</th>\n",
       "    </tr>\n",
       "    <tr>\n",
       "      <th>index</th>\n",
       "      <th></th>\n",
       "      <th></th>\n",
       "      <th></th>\n",
       "      <th></th>\n",
       "      <th></th>\n",
       "      <th></th>\n",
       "      <th></th>\n",
       "      <th></th>\n",
       "      <th></th>\n",
       "      <th></th>\n",
       "      <th></th>\n",
       "      <th></th>\n",
       "      <th></th>\n",
       "      <th></th>\n",
       "    </tr>\n",
       "  </thead>\n",
       "  <tbody>\n",
       "    <tr>\n",
       "      <th>611</th>\n",
       "      <td>(Sr.) Data Scientist -</td>\n",
       "      <td>$87K-$141K</td>\n",
       "      <td>Thursday, June 11, 2020  Merrick Bank is a top...</td>\n",
       "      <td>3.6</td>\n",
       "      <td>Merrick Bank</td>\n",
       "      <td>Utah</td>\n",
       "      <td>South Jordan, UT</td>\n",
       "      <td>201 to 500 employees</td>\n",
       "      <td>1997</td>\n",
       "      <td>Company - Private</td>\n",
       "      <td>Banks &amp; Credit Unions</td>\n",
       "      <td>Finance</td>\n",
       "      <td>Unknown / Non-Applicable</td>\n",
       "      <td>-1</td>\n",
       "    </tr>\n",
       "    <tr>\n",
       "      <th>93</th>\n",
       "      <td>(Sr.) Data Scientist -</td>\n",
       "      <td>$79K-$131K</td>\n",
       "      <td>Thursday, June 11, 2020  Merrick Bank is a top...</td>\n",
       "      <td>3.6</td>\n",
       "      <td>Merrick Bank</td>\n",
       "      <td>Utah</td>\n",
       "      <td>South Jordan, UT</td>\n",
       "      <td>201 to 500 employees</td>\n",
       "      <td>1997</td>\n",
       "      <td>Company - Private</td>\n",
       "      <td>Banks &amp; Credit Unions</td>\n",
       "      <td>Finance</td>\n",
       "      <td>Unknown / Non-Applicable</td>\n",
       "      <td>-1</td>\n",
       "    </tr>\n",
       "    <tr>\n",
       "      <th>143</th>\n",
       "      <td>AI Data Scientist</td>\n",
       "      <td>$90K-$109K</td>\n",
       "      <td>A chance to provide active support to our spon...</td>\n",
       "      <td>3.3</td>\n",
       "      <td>MITRE</td>\n",
       "      <td>McLean, VA</td>\n",
       "      <td>Bedford, MA</td>\n",
       "      <td>5001 to 10000 employees</td>\n",
       "      <td>1958</td>\n",
       "      <td>Nonprofit Organization</td>\n",
       "      <td>Federal Agencies</td>\n",
       "      <td>Government</td>\n",
       "      <td>$1 to $2 billion (USD)</td>\n",
       "      <td>Battelle, General Atomics, SAIC</td>\n",
       "    </tr>\n",
       "    <tr>\n",
       "      <th>651</th>\n",
       "      <td>AI Ops Data Scientist</td>\n",
       "      <td>$92K-$155K</td>\n",
       "      <td>Company  AstraZeneca is a global, innovation-d...</td>\n",
       "      <td>4.0</td>\n",
       "      <td>AstraZeneca</td>\n",
       "      <td>Gaithersburg, MD</td>\n",
       "      <td>Cambridge, United Kingdom</td>\n",
       "      <td>10000+ employees</td>\n",
       "      <td>1913</td>\n",
       "      <td>Company - Public</td>\n",
       "      <td>Biotech &amp; Pharmaceuticals</td>\n",
       "      <td>Biotech &amp; Pharmaceuticals</td>\n",
       "      <td>$10+ billion (USD)</td>\n",
       "      <td>Roche, GlaxoSmithKline, Novartis</td>\n",
       "    </tr>\n",
       "    <tr>\n",
       "      <th>370</th>\n",
       "      <td>AI Ops Data Scientist</td>\n",
       "      <td>$112K-$116K</td>\n",
       "      <td>Company  AstraZeneca is a global, innovation-d...</td>\n",
       "      <td>4.0</td>\n",
       "      <td>AstraZeneca</td>\n",
       "      <td>Gaithersburg, MD</td>\n",
       "      <td>Cambridge, United Kingdom</td>\n",
       "      <td>10000+ employees</td>\n",
       "      <td>1913</td>\n",
       "      <td>Company - Public</td>\n",
       "      <td>Biotech &amp; Pharmaceuticals</td>\n",
       "      <td>Biotech &amp; Pharmaceuticals</td>\n",
       "      <td>$10+ billion (USD)</td>\n",
       "      <td>Roche, GlaxoSmithKline, Novartis</td>\n",
       "    </tr>\n",
       "    <tr>\n",
       "      <th>...</th>\n",
       "      <td>...</td>\n",
       "      <td>...</td>\n",
       "      <td>...</td>\n",
       "      <td>...</td>\n",
       "      <td>...</td>\n",
       "      <td>...</td>\n",
       "      <td>...</td>\n",
       "      <td>...</td>\n",
       "      <td>...</td>\n",
       "      <td>...</td>\n",
       "      <td>...</td>\n",
       "      <td>...</td>\n",
       "      <td>...</td>\n",
       "      <td>...</td>\n",
       "    </tr>\n",
       "    <tr>\n",
       "      <th>469</th>\n",
       "      <td>VP, Data Science</td>\n",
       "      <td>$31K-$56K</td>\n",
       "      <td>We are looking for a VP, Data Science to lead ...</td>\n",
       "      <td>3.9</td>\n",
       "      <td>7Park Data</td>\n",
       "      <td>New York, NY</td>\n",
       "      <td>New York, NY</td>\n",
       "      <td>51 to 200 employees</td>\n",
       "      <td>2012</td>\n",
       "      <td>Company - Private</td>\n",
       "      <td>Research &amp; Development</td>\n",
       "      <td>Business Services</td>\n",
       "      <td>Unknown / Non-Applicable</td>\n",
       "      <td>-1</td>\n",
       "    </tr>\n",
       "    <tr>\n",
       "      <th>342</th>\n",
       "      <td>VP, Data Science</td>\n",
       "      <td>$79K-$147K</td>\n",
       "      <td>We are looking for a VP, Data Science to lead ...</td>\n",
       "      <td>3.9</td>\n",
       "      <td>7Park Data</td>\n",
       "      <td>New York, NY</td>\n",
       "      <td>New York, NY</td>\n",
       "      <td>51 to 200 employees</td>\n",
       "      <td>2012</td>\n",
       "      <td>Company - Private</td>\n",
       "      <td>Research &amp; Development</td>\n",
       "      <td>Business Services</td>\n",
       "      <td>Unknown / Non-Applicable</td>\n",
       "      <td>-1</td>\n",
       "    </tr>\n",
       "    <tr>\n",
       "      <th>580</th>\n",
       "      <td>Vice President, Biometrics and Clinical Data M...</td>\n",
       "      <td>$138K-$158K</td>\n",
       "      <td>At Alector, our mission is to develop therapie...</td>\n",
       "      <td>4.8</td>\n",
       "      <td>Alector</td>\n",
       "      <td>South San Francisco, CA</td>\n",
       "      <td>South San Francisco, CA</td>\n",
       "      <td>51 to 200 employees</td>\n",
       "      <td>2013</td>\n",
       "      <td>Company - Public</td>\n",
       "      <td>Biotech &amp; Pharmaceuticals</td>\n",
       "      <td>Biotech &amp; Pharmaceuticals</td>\n",
       "      <td>Unknown / Non-Applicable</td>\n",
       "      <td>-1</td>\n",
       "    </tr>\n",
       "    <tr>\n",
       "      <th>398</th>\n",
       "      <td>Weapons and Sensors Engineer/Scientist</td>\n",
       "      <td>$110K-$163K</td>\n",
       "      <td>Position Description   Dynetics, a wholly owne...</td>\n",
       "      <td>4.0</td>\n",
       "      <td>Dynetics</td>\n",
       "      <td>Huntsville, AL</td>\n",
       "      <td>Huntsville, AL</td>\n",
       "      <td>1001 to 5000 employees</td>\n",
       "      <td>1974</td>\n",
       "      <td>Company - Private</td>\n",
       "      <td>Aerospace &amp; Defense</td>\n",
       "      <td>Aerospace &amp; Defense</td>\n",
       "      <td>$100 to $500 million (USD)</td>\n",
       "      <td>-1</td>\n",
       "    </tr>\n",
       "    <tr>\n",
       "      <th>574</th>\n",
       "      <td>Weapons and Sensors Engineer/Scientist</td>\n",
       "      <td>$138K-$158K</td>\n",
       "      <td>Position Description   Dynetics, a wholly owne...</td>\n",
       "      <td>4.0</td>\n",
       "      <td>Dynetics</td>\n",
       "      <td>Huntsville, AL</td>\n",
       "      <td>Huntsville, AL</td>\n",
       "      <td>1001 to 5000 employees</td>\n",
       "      <td>1974</td>\n",
       "      <td>Company - Private</td>\n",
       "      <td>Aerospace &amp; Defense</td>\n",
       "      <td>Aerospace &amp; Defense</td>\n",
       "      <td>$100 to $500 million (USD)</td>\n",
       "      <td>-1</td>\n",
       "    </tr>\n",
       "  </tbody>\n",
       "</table>\n",
       "<p>654 rows × 14 columns</p>\n",
       "</div>"
      ],
      "text/plain": [
       "                                               Job Title Salary Estimate  \\\n",
       "index                                                                      \n",
       "611                               (Sr.) Data Scientist -      $87K-$141K   \n",
       "93                                (Sr.) Data Scientist -      $79K-$131K   \n",
       "143                                    AI Data Scientist      $90K-$109K   \n",
       "651                                AI Ops Data Scientist      $92K-$155K   \n",
       "370                                AI Ops Data Scientist     $112K-$116K   \n",
       "...                                                  ...             ...   \n",
       "469                                     VP, Data Science       $31K-$56K   \n",
       "342                                     VP, Data Science      $79K-$147K   \n",
       "580    Vice President, Biometrics and Clinical Data M...     $138K-$158K   \n",
       "398               Weapons and Sensors Engineer/Scientist     $110K-$163K   \n",
       "574               Weapons and Sensors Engineer/Scientist     $138K-$158K   \n",
       "\n",
       "                                         Job Description  Rating  \\\n",
       "index                                                              \n",
       "611    Thursday, June 11, 2020  Merrick Bank is a top...     3.6   \n",
       "93     Thursday, June 11, 2020  Merrick Bank is a top...     3.6   \n",
       "143    A chance to provide active support to our spon...     3.3   \n",
       "651    Company  AstraZeneca is a global, innovation-d...     4.0   \n",
       "370    Company  AstraZeneca is a global, innovation-d...     4.0   \n",
       "...                                                  ...     ...   \n",
       "469    We are looking for a VP, Data Science to lead ...     3.9   \n",
       "342    We are looking for a VP, Data Science to lead ...     3.9   \n",
       "580    At Alector, our mission is to develop therapie...     4.8   \n",
       "398    Position Description   Dynetics, a wholly owne...     4.0   \n",
       "574    Position Description   Dynetics, a wholly owne...     4.0   \n",
       "\n",
       "       Company Name                 Location               Headquarters  \\\n",
       "index                                                                     \n",
       "611    Merrick Bank                     Utah           South Jordan, UT   \n",
       "93     Merrick Bank                     Utah           South Jordan, UT   \n",
       "143           MITRE               McLean, VA                Bedford, MA   \n",
       "651     AstraZeneca         Gaithersburg, MD  Cambridge, United Kingdom   \n",
       "370     AstraZeneca         Gaithersburg, MD  Cambridge, United Kingdom   \n",
       "...             ...                      ...                        ...   \n",
       "469      7Park Data             New York, NY               New York, NY   \n",
       "342      7Park Data             New York, NY               New York, NY   \n",
       "580         Alector  South San Francisco, CA    South San Francisco, CA   \n",
       "398        Dynetics           Huntsville, AL             Huntsville, AL   \n",
       "574        Dynetics           Huntsville, AL             Huntsville, AL   \n",
       "\n",
       "                          Size  Founded       Type of ownership  \\\n",
       "index                                                             \n",
       "611       201 to 500 employees     1997       Company - Private   \n",
       "93        201 to 500 employees     1997       Company - Private   \n",
       "143    5001 to 10000 employees     1958  Nonprofit Organization   \n",
       "651           10000+ employees     1913        Company - Public   \n",
       "370           10000+ employees     1913        Company - Public   \n",
       "...                        ...      ...                     ...   \n",
       "469        51 to 200 employees     2012       Company - Private   \n",
       "342        51 to 200 employees     2012       Company - Private   \n",
       "580        51 to 200 employees     2013        Company - Public   \n",
       "398     1001 to 5000 employees     1974       Company - Private   \n",
       "574     1001 to 5000 employees     1974       Company - Private   \n",
       "\n",
       "                        Industry                     Sector  \\\n",
       "index                                                         \n",
       "611        Banks & Credit Unions                    Finance   \n",
       "93         Banks & Credit Unions                    Finance   \n",
       "143             Federal Agencies                 Government   \n",
       "651    Biotech & Pharmaceuticals  Biotech & Pharmaceuticals   \n",
       "370    Biotech & Pharmaceuticals  Biotech & Pharmaceuticals   \n",
       "...                          ...                        ...   \n",
       "469       Research & Development          Business Services   \n",
       "342       Research & Development          Business Services   \n",
       "580    Biotech & Pharmaceuticals  Biotech & Pharmaceuticals   \n",
       "398          Aerospace & Defense        Aerospace & Defense   \n",
       "574          Aerospace & Defense        Aerospace & Defense   \n",
       "\n",
       "                          Revenue                       Competitors  \n",
       "index                                                                \n",
       "611      Unknown / Non-Applicable                                -1  \n",
       "93       Unknown / Non-Applicable                                -1  \n",
       "143        $1 to $2 billion (USD)   Battelle, General Atomics, SAIC  \n",
       "651            $10+ billion (USD)  Roche, GlaxoSmithKline, Novartis  \n",
       "370            $10+ billion (USD)  Roche, GlaxoSmithKline, Novartis  \n",
       "...                           ...                               ...  \n",
       "469      Unknown / Non-Applicable                                -1  \n",
       "342      Unknown / Non-Applicable                                -1  \n",
       "580      Unknown / Non-Applicable                                -1  \n",
       "398    $100 to $500 million (USD)                                -1  \n",
       "574    $100 to $500 million (USD)                                -1  \n",
       "\n",
       "[654 rows x 14 columns]"
      ]
     },
     "execution_count": 23,
     "metadata": {},
     "output_type": "execute_result"
    }
   ],
   "source": [
    "# Checking Non-duplicated values\n",
    "\n",
    "df[~duplicates].sort_values(by = \"Job Title\")"
   ]
  },
  {
   "cell_type": "code",
   "execution_count": 24,
   "id": "4236af33",
   "metadata": {},
   "outputs": [],
   "source": [
    "# Dropping complete duplicates\n",
    "\n",
    "df.drop_duplicates(keep = \"first\", ignore_index = True, inplace = True)"
   ]
  },
  {
   "cell_type": "code",
   "execution_count": 25,
   "id": "358e8e04",
   "metadata": {
    "scrolled": true
   },
   "outputs": [
    {
     "data": {
      "text/plain": [
       "array([False])"
      ]
     },
     "execution_count": 25,
     "metadata": {},
     "output_type": "execute_result"
    }
   ],
   "source": [
    "# Checking of remaining duplicates\n",
    "\n",
    "df.duplicated(keep = False).unique()"
   ]
  },
  {
   "cell_type": "code",
   "execution_count": 26,
   "id": "95d026ff",
   "metadata": {},
   "outputs": [],
   "source": [
    "# Finding missing values\n",
    "\n",
    "data = df.replace((-1, \"-1\"), np.NaN)"
   ]
  },
  {
   "cell_type": "code",
   "execution_count": 27,
   "id": "cd621db2",
   "metadata": {},
   "outputs": [],
   "source": [
    "df = data"
   ]
  },
  {
   "cell_type": "code",
   "execution_count": 28,
   "id": "c36ddbaf",
   "metadata": {},
   "outputs": [
    {
     "data": {
      "text/plain": [
       "Job Title              0\n",
       "Salary Estimate        0\n",
       "Job Description        0\n",
       "Rating                39\n",
       "Company Name           0\n",
       "Location               0\n",
       "Headquarters          20\n",
       "Size                  16\n",
       "Founded              107\n",
       "Type of ownership     16\n",
       "Industry              60\n",
       "Sector                60\n",
       "Revenue               16\n",
       "Competitors          488\n",
       "dtype: int64"
      ]
     },
     "execution_count": 28,
     "metadata": {},
     "output_type": "execute_result"
    }
   ],
   "source": [
    "# Summing the total missing values by column\n",
    "\n",
    "df.isnull().sum()"
   ]
  },
  {
   "cell_type": "code",
   "execution_count": 29,
   "id": "a4a9731a",
   "metadata": {},
   "outputs": [
    {
     "data": {
      "text/plain": [
       "<AxesSubplot:>"
      ]
     },
     "execution_count": 29,
     "metadata": {},
     "output_type": "execute_result"
    },
    {
     "data": {
      "image/png": "[encoded data removed]",
      "text/plain": [
       "<Figure size 1800x720 with 2 Axes>"
      ]
     },
     "metadata": {
      "needs_background": "light"
     },
     "output_type": "display_data"
    }
   ],
   "source": [
    "# Ploting the matrix of the missing values\n",
    "\n",
    "msno.matrix(df, color = (0.25,0.25,0.25))"
   ]
  },
  {
   "cell_type": "code",
   "execution_count": 30,
   "id": "ace53398",
   "metadata": {},
   "outputs": [
    {
     "data": {
      "text/plain": [
       "count    620.000000\n",
       "mean       3.881290\n",
       "std        0.609805\n",
       "min        2.000000\n",
       "25%        3.500000\n",
       "50%        3.800000\n",
       "75%        4.400000\n",
       "max        5.000000\n",
       "Name: Rating, dtype: float64"
      ]
     },
     "execution_count": 30,
     "metadata": {},
     "output_type": "execute_result"
    }
   ],
   "source": [
    "# Determining the nature of the missing values in Rating column\n",
    "\n",
    "df[\"Rating\"].describe()"
   ]
  },
  {
   "cell_type": "code",
   "execution_count": 31,
   "id": "8d56d914",
   "metadata": {},
   "outputs": [
    {
     "name": "stderr",
     "output_type": "stream",
     "text": [
      "C:\\Users\\EAFrimpong\\Music\\anaconda\\lib\\site-packages\\seaborn\\_decorators.py:36: FutureWarning: Pass the following variable as a keyword arg: x. From version 0.12, the only valid positional argument will be `data`, and passing other arguments without an explicit keyword will result in an error or misinterpretation.\n",
      "  warnings.warn(\n",
      "C:\\Users\\EAFrimpong\\Music\\anaconda\\lib\\site-packages\\seaborn\\_core.py:1326: UserWarning: Vertical orientation ignored with only `x` specified.\n",
      "  warnings.warn(single_var_warning.format(\"Vertical\", \"x\"))\n"
     ]
    },
    {
     "data": {
      "text/plain": [
       "<AxesSubplot:xlabel='Rating'>"
      ]
     },
     "execution_count": 31,
     "metadata": {},
     "output_type": "execute_result"
    },
    {
     "data": {
      "image/png": "[encoded data removed]",
      "text/plain": [
       "<Figure size 432x288 with 1 Axes>"
      ]
     },
     "metadata": {
      "needs_background": "light"
     },
     "output_type": "display_data"
    }
   ],
   "source": [
    "# Dtermining the range constraints\n",
    "\n",
    "sns.boxplot(df[\"Rating\"],orient = 'v')"
   ]
  },
  {
   "cell_type": "code",
   "execution_count": 32,
   "id": "074c9b35",
   "metadata": {},
   "outputs": [
    {
     "data": {
      "text/plain": [
       "3.9"
      ]
     },
     "execution_count": 32,
     "metadata": {},
     "output_type": "execute_result"
    }
   ],
   "source": [
    "# Finding the mean of the Rating column\n",
    "\n",
    "mean_missing_rating = round(df[\"Rating\"][df[\"Rating\"]!=-1].mean(), 1)\n",
    "mean_missing_rating"
   ]
  },
  {
   "cell_type": "code",
   "execution_count": 33,
   "id": "7b381898",
   "metadata": {},
   "outputs": [],
   "source": [
    "# Replacing the missing values in with then mean\n",
    "\n",
    "\n",
    "replace_mean = df[\"Rating\"].fillna(mean_missing_rating)\n",
    "df[\"Rating\"] = replace_mean"
   ]
  },
  {
   "cell_type": "code",
   "execution_count": 34,
   "id": "e7ffe69c",
   "metadata": {},
   "outputs": [
    {
     "data": {
      "text/plain": [
       "0      3.1\n",
       "1      4.2\n",
       "2      3.8\n",
       "3      3.5\n",
       "4      2.9\n",
       "      ... \n",
       "654    3.6\n",
       "655    3.9\n",
       "656    3.9\n",
       "657    5.0\n",
       "658    2.7\n",
       "Name: Rating, Length: 659, dtype: float64"
      ]
     },
     "execution_count": 34,
     "metadata": {},
     "output_type": "execute_result"
    }
   ],
   "source": [
    "df[\"Rating\"]"
   ]
  },
  {
   "cell_type": "code",
   "execution_count": 35,
   "id": "8f6491e8",
   "metadata": {},
   "outputs": [
    {
     "data": {
      "text/plain": [
       "2012.0    34\n",
       "2011.0    24\n",
       "2010.0    22\n",
       "1996.0    22\n",
       "1999.0    22\n",
       "          ..\n",
       "1820.0     1\n",
       "1952.0     1\n",
       "1932.0     1\n",
       "1894.0     1\n",
       "1962.0     1\n",
       "Name: Founded, Length: 102, dtype: int64"
      ]
     },
     "execution_count": 35,
     "metadata": {},
     "output_type": "execute_result"
    }
   ],
   "source": [
    "# Finding the modal year\n",
    "\n",
    "df[\"Founded\"].value_counts()"
   ]
  },
  {
   "cell_type": "code",
   "execution_count": 36,
   "id": "009e22d0",
   "metadata": {},
   "outputs": [
    {
     "data": {
      "text/plain": [
       "0      1993.0\n",
       "1      1968.0\n",
       "2      1981.0\n",
       "3      2000.0\n",
       "4      1998.0\n",
       "        ...  \n",
       "654    1989.0\n",
       "655    2012.0\n",
       "656    2012.0\n",
       "657    2012.0\n",
       "658    1976.0\n",
       "Name: Founded, Length: 659, dtype: float64"
      ]
     },
     "execution_count": 36,
     "metadata": {},
     "output_type": "execute_result"
    }
   ],
   "source": [
    "# Replacing the missing values with the mode\n",
    "\n",
    "replacing_founded = df['Founded'].fillna(2012.0)\n",
    "replacing_founded"
   ]
  },
  {
   "cell_type": "code",
   "execution_count": 37,
   "id": "42d2bccf",
   "metadata": {},
   "outputs": [
    {
     "data": {
      "text/plain": [
       "0      1970\n",
       "1      1970\n",
       "2      1970\n",
       "3      1970\n",
       "4      1970\n",
       "       ... \n",
       "654    1970\n",
       "655    1970\n",
       "656    1970\n",
       "657    1970\n",
       "658    1970\n",
       "Name: Founded, Length: 659, dtype: object"
      ]
     },
     "execution_count": 37,
     "metadata": {},
     "output_type": "execute_result"
    }
   ],
   "source": [
    "# Changing datatype to datetime\n",
    "\n",
    "clean_founded = pd.to_datetime(replacing_founded).dt.strftime(\"%Y\")\n",
    "clean_founded"
   ]
  },
  {
   "cell_type": "code",
   "execution_count": 38,
   "id": "4cf253eb",
   "metadata": {},
   "outputs": [],
   "source": [
    "# Adding to dataframe\n",
    "\n",
    "df[\"Founded\"] = clean_founded"
   ]
  },
  {
   "cell_type": "code",
   "execution_count": 39,
   "id": "18a9bead",
   "metadata": {},
   "outputs": [
    {
     "data": {
      "text/plain": [
       "count              639\n",
       "unique             228\n",
       "top       New York, NY\n",
       "freq                33\n",
       "Name: Headquarters, dtype: object"
      ]
     },
     "execution_count": 39,
     "metadata": {},
     "output_type": "execute_result"
    }
   ],
   "source": [
    "# Determain the nature of missing values of Headquarters\n",
    "\n",
    "df[\"Headquarters\"].describe()"
   ]
  },
  {
   "cell_type": "code",
   "execution_count": 40,
   "id": "9eb9255b",
   "metadata": {},
   "outputs": [
    {
     "data": {
      "text/plain": [
       "0                New York, NY\n",
       "1                 Herndon, VA\n",
       "2                  Boston, MA\n",
       "3      Bad Ragaz, Switzerland\n",
       "4                New York, NY\n",
       "                ...          \n",
       "654              Fort Lee, NJ\n",
       "655                       NaN\n",
       "656                       NaN\n",
       "657           Santa Clara, CA\n",
       "658           Carle Place, NY\n",
       "Name: Headquarters, Length: 659, dtype: object"
      ]
     },
     "execution_count": 40,
     "metadata": {},
     "output_type": "execute_result"
    }
   ],
   "source": [
    "df[\"Headquarters\"]"
   ]
  },
  {
   "cell_type": "code",
   "execution_count": 41,
   "id": "e557a1a6",
   "metadata": {},
   "outputs": [],
   "source": [
    "# Replacing the missing values with the random sample imputation\n",
    "\n",
    "available_hq = df[\"Headquarters\"].unique()\n"
   ]
  },
  {
   "cell_type": "code",
   "execution_count": 42,
   "id": "577d876b",
   "metadata": {},
   "outputs": [
    {
     "data": {
      "text/plain": [
       "'Santa Cruz, CA'"
      ]
     },
     "execution_count": 42,
     "metadata": {},
     "output_type": "execute_result"
    }
   ],
   "source": [
    "random.seed(3)\n",
    "random_choice = random.choice(available_hq)\n",
    "random_choice"
   ]
  },
  {
   "cell_type": "code",
   "execution_count": 43,
   "id": "b931c944",
   "metadata": {},
   "outputs": [
    {
     "data": {
      "text/plain": [
       "0                New York, NY\n",
       "1                 Herndon, VA\n",
       "2                  Boston, MA\n",
       "3      Bad Ragaz, Switzerland\n",
       "4                New York, NY\n",
       "                ...          \n",
       "654              Fort Lee, NJ\n",
       "655            Santa Cruz, CA\n",
       "656            Santa Cruz, CA\n",
       "657           Santa Clara, CA\n",
       "658           Carle Place, NY\n",
       "Name: Headquarters, Length: 659, dtype: object"
      ]
     },
     "execution_count": 43,
     "metadata": {},
     "output_type": "execute_result"
    }
   ],
   "source": [
    "replace_hq = df[\"Headquarters\"].fillna(random_choice)\n",
    "replace_hq"
   ]
  },
  {
   "cell_type": "code",
   "execution_count": 44,
   "id": "9dc91b1d",
   "metadata": {},
   "outputs": [],
   "source": [
    "# Inserting the replace values into the data frame\n",
    "\n",
    "df[\"Headquarters\"] = replace_hq"
   ]
  },
  {
   "cell_type": "code",
   "execution_count": 45,
   "id": "cd6dd143",
   "metadata": {},
   "outputs": [
    {
     "data": {
      "text/plain": [
       "count                     643\n",
       "unique                      8\n",
       "top       51 to 200 employees\n",
       "freq                      134\n",
       "Name: Size, dtype: object"
      ]
     },
     "execution_count": 45,
     "metadata": {},
     "output_type": "execute_result"
    }
   ],
   "source": [
    "# Describe the Size column\n",
    "\n",
    "df[\"Size\"].describe()"
   ]
  },
  {
   "cell_type": "code",
   "execution_count": 46,
   "id": "74a79f35",
   "metadata": {},
   "outputs": [
    {
     "data": {
      "text/plain": [
       "array(['1001 to 5000 employees', '5001 to 10000 employees',\n",
       "       '501 to 1000 employees', '51 to 200 employees', '10000+ employees',\n",
       "       '201 to 500 employees', '1 to 50 employees', nan, 'Unknown'],\n",
       "      dtype=object)"
      ]
     },
     "execution_count": 46,
     "metadata": {},
     "output_type": "execute_result"
    }
   ],
   "source": [
    "available_size = df[\"Size\"].unique()\n",
    "available_size"
   ]
  },
  {
   "cell_type": "code",
   "execution_count": 47,
   "id": "94679aae",
   "metadata": {},
   "outputs": [
    {
     "data": {
      "text/plain": [
       "0       1001 to 5000 employees\n",
       "1      5001 to 10000 employees\n",
       "2       1001 to 5000 employees\n",
       "3        501 to 1000 employees\n",
       "4          51 to 200 employees\n",
       "                ...           \n",
       "654     1001 to 5000 employees\n",
       "655                    Unknown\n",
       "656                    Unknown\n",
       "657          1 to 50 employees\n",
       "658     1001 to 5000 employees\n",
       "Name: Size, Length: 659, dtype: object"
      ]
     },
     "execution_count": 47,
     "metadata": {},
     "output_type": "execute_result"
    }
   ],
   "source": [
    "#Filing the missing values\n",
    "\n",
    "replace_size = df[\"Size\"].fillna(\"Unknown\")\n",
    "replace_size"
   ]
  },
  {
   "cell_type": "code",
   "execution_count": 49,
   "id": "abe159df",
   "metadata": {},
   "outputs": [],
   "source": [
    "# Insert replaced valued into dataframe\n",
    "\n",
    "\n",
    "df[\"Size\"] = replace_size"
   ]
  },
  {
   "cell_type": "code",
   "execution_count": 50,
   "id": "cd873985",
   "metadata": {},
   "outputs": [
    {
     "data": {
      "text/plain": [
       "count                   643\n",
       "unique                   12\n",
       "top       Company - Private\n",
       "freq                    395\n",
       "Name: Type of ownership, dtype: object"
      ]
     },
     "execution_count": 50,
     "metadata": {},
     "output_type": "execute_result"
    }
   ],
   "source": [
    "# Determain the nature of missing values of Type of ownership\n",
    "\n",
    "\n",
    "df[\"Type of ownership\"].describe()"
   ]
  },
  {
   "cell_type": "code",
   "execution_count": 51,
   "id": "af13df9b",
   "metadata": {},
   "outputs": [
    {
     "data": {
      "text/plain": [
       "array(['Nonprofit Organization', 'Company - Public',\n",
       "       'Private Practice / Firm', 'Company - Private', 'Government',\n",
       "       'Subsidiary or Business Segment', 'Other Organization', nan,\n",
       "       'Unknown', 'Hospital', 'Self-employed', 'College / University',\n",
       "       'Contract'], dtype=object)"
      ]
     },
     "execution_count": 51,
     "metadata": {},
     "output_type": "execute_result"
    }
   ],
   "source": [
    "df[\"Type of ownership\"].unique()"
   ]
  },
  {
   "cell_type": "code",
   "execution_count": 52,
   "id": "e4f376b1",
   "metadata": {},
   "outputs": [
    {
     "data": {
      "text/plain": [
       "0       Nonprofit Organization\n",
       "1             Company - Public\n",
       "2      Private Practice / Firm\n",
       "3             Company - Public\n",
       "4            Company - Private\n",
       "                ...           \n",
       "654          Company - Private\n",
       "655                    Unknown\n",
       "656                    Unknown\n",
       "657          Company - Private\n",
       "658           Company - Public\n",
       "Name: Type of ownership, Length: 659, dtype: object"
      ]
     },
     "execution_count": 52,
     "metadata": {},
     "output_type": "execute_result"
    }
   ],
   "source": [
    "#Filing the missing values\n",
    "\n",
    "replace_type_ownership = df[\"Type of ownership\"].fillna(\"Unknown\")\n",
    "replace_type_ownership"
   ]
  },
  {
   "cell_type": "code",
   "execution_count": 53,
   "id": "8378190a",
   "metadata": {},
   "outputs": [],
   "source": [
    "#Changing datatype\n",
    "\n",
    "new_type_ownership = replace_type_ownership.astype(\"category\")"
   ]
  },
  {
   "cell_type": "code",
   "execution_count": 54,
   "id": "8afe47b0",
   "metadata": {},
   "outputs": [],
   "source": [
    "# Insert replaced valued into dataframe\n",
    "\n",
    "df[\"Type of ownership\"] = new_type_ownership"
   ]
  },
  {
   "cell_type": "code",
   "execution_count": 55,
   "id": "8395a817",
   "metadata": {},
   "outputs": [
    {
     "data": {
      "text/plain": [
       "count                          643\n",
       "unique                          13\n",
       "top       Unknown / Non-Applicable\n",
       "freq                           212\n",
       "Name: Revenue, dtype: object"
      ]
     },
     "execution_count": 55,
     "metadata": {},
     "output_type": "execute_result"
    }
   ],
   "source": [
    "# Determain the nature of missing values of Revenue\n",
    "\n",
    "\n",
    "df[\"Revenue\"].describe()"
   ]
  },
  {
   "cell_type": "code",
   "execution_count": 56,
   "id": "7ea19a4f",
   "metadata": {},
   "outputs": [
    {
     "data": {
      "text/plain": [
       "array(['Unknown / Non-Applicable', '$1 to $2 billion (USD)',\n",
       "       '$100 to $500 million (USD)', '$10+ billion (USD)',\n",
       "       '$2 to $5 billion (USD)', '$500 million to $1 billion (USD)',\n",
       "       '$5 to $10 billion (USD)', '$10 to $25 million (USD)',\n",
       "       '$25 to $50 million (USD)', '$50 to $100 million (USD)',\n",
       "       '$1 to $5 million (USD)', '$5 to $10 million (USD)',\n",
       "       'Less than $1 million (USD)', nan], dtype=object)"
      ]
     },
     "execution_count": 56,
     "metadata": {},
     "output_type": "execute_result"
    }
   ],
   "source": [
    "df[\"Revenue\"].unique()"
   ]
  },
  {
   "cell_type": "code",
   "execution_count": 57,
   "id": "424948cb",
   "metadata": {},
   "outputs": [
    {
     "data": {
      "text/plain": [
       "0        Unknown / Non-Applicable\n",
       "1          $1 to $2 billion (USD)\n",
       "2      $100 to $500 million (USD)\n",
       "3      $100 to $500 million (USD)\n",
       "4        Unknown / Non-Applicable\n",
       "                  ...            \n",
       "654      Unknown / Non-Applicable\n",
       "655      Unknown / Non-Applicable\n",
       "656      Unknown / Non-Applicable\n",
       "657        $1 to $5 million (USD)\n",
       "658        $1 to $2 billion (USD)\n",
       "Name: Revenue, Length: 659, dtype: object"
      ]
     },
     "execution_count": 57,
     "metadata": {},
     "output_type": "execute_result"
    }
   ],
   "source": [
    "#Filing the missing values\n",
    "\n",
    "replace_revenue = df[\"Revenue\"].fillna(\"Unknown / Non-Applicable\")\n",
    "replace_revenue"
   ]
  },
  {
   "cell_type": "code",
   "execution_count": 58,
   "id": "88513e95",
   "metadata": {},
   "outputs": [],
   "source": [
    "# Insert replaced valued into dataframe\n",
    "\n",
    "df[\"Revenue\"] = replace_revenue"
   ]
  },
  {
   "cell_type": "code",
   "execution_count": 59,
   "id": "415fb000",
   "metadata": {},
   "outputs": [
    {
     "data": {
      "text/plain": [
       "count                           599\n",
       "unique                           57\n",
       "top       Biotech & Pharmaceuticals\n",
       "freq                             66\n",
       "Name: Industry, dtype: object"
      ]
     },
     "execution_count": 59,
     "metadata": {},
     "output_type": "execute_result"
    }
   ],
   "source": [
    "# Determain the nature of missing values of Industry\n",
    "\n",
    "\n",
    "df[\"Industry\"].describe()"
   ]
  },
  {
   "cell_type": "code",
   "execution_count": 60,
   "id": "4a065df1",
   "metadata": {},
   "outputs": [
    {
     "data": {
      "text/plain": [
       "array(['Insurance Carriers', 'Research & Development', 'Consulting',\n",
       "       'Electrical & Electronic Manufacturing', 'Advertising & Marketing',\n",
       "       'Computer Hardware & Software', 'Biotech & Pharmaceuticals',\n",
       "       'Consumer Electronics & Appliances Stores',\n",
       "       'Enterprise Software & Network Solutions', 'IT Services', 'Energy',\n",
       "       'Chemical Manufacturing', 'Federal Agencies', 'Internet',\n",
       "       'Health Care Services & Hospitals',\n",
       "       'Investment Banking & Asset Management', 'Aerospace & Defense',\n",
       "       'Utilities', nan, 'Express Delivery Services',\n",
       "       'Staffing & Outsourcing', 'Insurance Agencies & Brokerages',\n",
       "       'Consumer Products Manufacturing', 'Industrial Manufacturing',\n",
       "       'Food & Beverage Manufacturing', 'Banks & Credit Unions',\n",
       "       'Video Games', 'Shipping', 'Telecommunications Services',\n",
       "       'Lending', 'Cable, Internet & Telephone Providers', 'Real Estate',\n",
       "       'Venture Capital & Private Equity', 'Miscellaneous Manufacturing',\n",
       "       'Oil & Gas Services', 'Transportation Equipment Manufacturing',\n",
       "       'Telecommunications Manufacturing', 'Transportation Management',\n",
       "       'News Outlet', 'Architectural & Engineering Services',\n",
       "       'Food & Beverage Stores', 'Other Retail Stores',\n",
       "       'Hotels, Motels, & Resorts', 'State & Regional Agencies',\n",
       "       'Financial Transaction Processing', 'Timber Operations',\n",
       "       'Colleges & Universities', 'Travel Agencies', 'Accounting',\n",
       "       'Logistics & Supply Chain', 'Farm Support Services',\n",
       "       'Social Assistance', 'Construction',\n",
       "       'Department, Clothing, & Shoe Stores', 'Publishing',\n",
       "       'Health, Beauty, & Fitness', 'Wholesale', 'Rail'], dtype=object)"
      ]
     },
     "execution_count": 60,
     "metadata": {},
     "output_type": "execute_result"
    }
   ],
   "source": [
    "df[\"Industry\"].unique()"
   ]
  },
  {
   "cell_type": "code",
   "execution_count": 61,
   "id": "fd54bf81",
   "metadata": {},
   "outputs": [
    {
     "data": {
      "text/plain": [
       "0                         Insurance Carriers\n",
       "1                     Research & Development\n",
       "2                                 Consulting\n",
       "3      Electrical & Electronic Manufacturing\n",
       "4                    Advertising & Marketing\n",
       "                       ...                  \n",
       "654                  Advertising & Marketing\n",
       "655                Biotech & Pharmaceuticals\n",
       "656                Biotech & Pharmaceuticals\n",
       "657                  Advertising & Marketing\n",
       "658                                Wholesale\n",
       "Name: Industry, Length: 659, dtype: object"
      ]
     },
     "execution_count": 61,
     "metadata": {},
     "output_type": "execute_result"
    }
   ],
   "source": [
    "#Filing the missing values with the highest frequency\n",
    "\n",
    "replace_industry = df[\"Industry\"].fillna(\"Biotech & Pharmaceuticals\")\n",
    "replace_industry"
   ]
  },
  {
   "cell_type": "code",
   "execution_count": 62,
   "id": "cbf7c0b7",
   "metadata": {},
   "outputs": [],
   "source": [
    "# Insert replaced valued into dataframe\n",
    "\n",
    "df[\"Industry\"] = replace_industry"
   ]
  },
  {
   "cell_type": "code",
   "execution_count": 63,
   "id": "89fc60b6",
   "metadata": {},
   "outputs": [
    {
     "data": {
      "text/plain": [
       "count                        599\n",
       "unique                        22\n",
       "top       Information Technology\n",
       "freq                         187\n",
       "Name: Sector, dtype: object"
      ]
     },
     "execution_count": 63,
     "metadata": {},
     "output_type": "execute_result"
    }
   ],
   "source": [
    "# Determain the nature of missing values of Sector\n",
    "\n",
    "\n",
    "df[\"Sector\"].describe()"
   ]
  },
  {
   "cell_type": "code",
   "execution_count": 64,
   "id": "bfcbd2e8",
   "metadata": {},
   "outputs": [
    {
     "data": {
      "text/plain": [
       "array(['Insurance', 'Business Services', 'Manufacturing',\n",
       "       'Information Technology', 'Biotech & Pharmaceuticals', 'Retail',\n",
       "       'Oil, Gas, Energy & Utilities', 'Government', 'Health Care',\n",
       "       'Finance', 'Aerospace & Defense', nan,\n",
       "       'Transportation & Logistics', 'Media', 'Telecommunications',\n",
       "       'Real Estate', 'Travel & Tourism', 'Agriculture & Forestry',\n",
       "       'Education', 'Accounting & Legal', 'Non-Profit',\n",
       "       'Construction, Repair & Maintenance', 'Consumer Services'],\n",
       "      dtype=object)"
      ]
     },
     "execution_count": 64,
     "metadata": {},
     "output_type": "execute_result"
    }
   ],
   "source": [
    "df[\"Sector\"].unique()"
   ]
  },
  {
   "cell_type": "code",
   "execution_count": 65,
   "id": "35c4c86f",
   "metadata": {},
   "outputs": [
    {
     "data": {
      "text/plain": [
       "0                   Insurance\n",
       "1           Business Services\n",
       "2           Business Services\n",
       "3               Manufacturing\n",
       "4           Business Services\n",
       "                ...          \n",
       "654         Business Services\n",
       "655    Information Technology\n",
       "656    Information Technology\n",
       "657         Business Services\n",
       "658         Business Services\n",
       "Name: Sector, Length: 659, dtype: object"
      ]
     },
     "execution_count": 65,
     "metadata": {},
     "output_type": "execute_result"
    }
   ],
   "source": [
    "#Filing the missing values with the highest frequency\n",
    "\n",
    "replace_sector = df[\"Sector\"].fillna(\"Information Technology\")\n",
    "replace_sector"
   ]
  },
  {
   "cell_type": "code",
   "execution_count": 66,
   "id": "3baf63e4",
   "metadata": {},
   "outputs": [],
   "source": [
    "# Insert replaced valued into dataframe\n",
    "\n",
    "df[\"Sector\"] = replace_sector"
   ]
  },
  {
   "cell_type": "code",
   "execution_count": 69,
   "id": "e9c3ec75",
   "metadata": {},
   "outputs": [],
   "source": [
    "# Dropping competitors\n",
    "\n",
    "df.dropna(axis = \"columns\", how = \"any\", inplace = True)"
   ]
  },
  {
   "cell_type": "code",
   "execution_count": 77,
   "id": "6efcc77b",
   "metadata": {},
   "outputs": [
    {
     "data": {
      "text/plain": [
       "<AxesSubplot:>"
      ]
     },
     "execution_count": 77,
     "metadata": {},
     "output_type": "execute_result"
    },
    {
     "data": {
      "image/png": "[encoded data removed]",
      "text/plain": [
       "<Figure size 1800x720 with 2 Axes>"
      ]
     },
     "metadata": {
      "needs_background": "light"
     },
     "output_type": "display_data"
    }
   ],
   "source": [
    "msno.matrix(df, color = (0.25,0.25,0.25))"
   ]
  },
  {
   "cell_type": "code",
   "execution_count": 71,
   "id": "d46287eb",
   "metadata": {},
   "outputs": [],
   "source": [
    " #Creating a seniority column\n",
    "df['Seniority']=df['Job Title'].str.contains('Sr.|Senior|Sr')"
   ]
  },
  {
   "cell_type": "code",
   "execution_count": 74,
   "id": "b8652914",
   "metadata": {},
   "outputs": [
    {
     "name": "stderr",
     "output_type": "stream",
     "text": [
      "C:\\Users\\EAFrimpong\\AppData\\Local\\Temp\\ipykernel_6468\\854472024.py:5: FutureWarning: The default value of regex will change from True to False in a future version. In addition, single character regular expressions will *not* be treated as literal strings when regex=True.\n",
      "  df['min salary']=df['min salary'].str.replace('$','').str.replace('K','').astype('int')\n",
      "C:\\Users\\EAFrimpong\\AppData\\Local\\Temp\\ipykernel_6468\\854472024.py:6: FutureWarning: The default value of regex will change from True to False in a future version. In addition, single character regular expressions will *not* be treated as literal strings when regex=True.\n",
      "  df['max salary']=df['max salary'].str.replace('$','').str.replace('K','').astype('int')\n"
     ]
    }
   ],
   "source": [
    "# splitting salary estimate column into minimum and maximum salary\n",
    "df[['min salary','max salary']]=df['Salary Estimate'].str.split('-',expand=True)\n",
    "\n",
    "#converting the min and max salary to integers\n",
    "df['min salary']=df['min salary'].str.replace('$','').str.replace('K','').astype('int')\n",
    "df['max salary']=df['max salary'].str.replace('$','').str.replace('K','').astype('int')"
   ]
  },
  {
   "cell_type": "code",
   "execution_count": 76,
   "id": "289a50f4",
   "metadata": {},
   "outputs": [],
   "source": [
    "# creating the average salary column\n",
    "df['average salary']=(df['min salary']+df['max salary'])/2"
   ]
  },
  {
   "cell_type": "code",
   "execution_count": 78,
   "id": "6edf2a11",
   "metadata": {},
   "outputs": [
    {
     "data": {
      "text/html": [
       "<div>\n",
       "<style scoped>\n",
       "    .dataframe tbody tr th:only-of-type {\n",
       "        vertical-align: middle;\n",
       "    }\n",
       "\n",
       "    .dataframe tbody tr th {\n",
       "        vertical-align: top;\n",
       "    }\n",
       "\n",
       "    .dataframe thead th {\n",
       "        text-align: right;\n",
       "    }\n",
       "</style>\n",
       "<table border=\"1\" class=\"dataframe\">\n",
       "  <thead>\n",
       "    <tr style=\"text-align: right;\">\n",
       "      <th></th>\n",
       "      <th>Job Title</th>\n",
       "      <th>Salary Estimate</th>\n",
       "      <th>Job Description</th>\n",
       "      <th>Rating</th>\n",
       "      <th>Company Name</th>\n",
       "      <th>Location</th>\n",
       "      <th>Headquarters</th>\n",
       "      <th>Size</th>\n",
       "      <th>Founded</th>\n",
       "      <th>Type of ownership</th>\n",
       "      <th>Industry</th>\n",
       "      <th>Sector</th>\n",
       "      <th>Revenue</th>\n",
       "      <th>Seniority</th>\n",
       "      <th>min salary</th>\n",
       "      <th>max salary</th>\n",
       "      <th>average salary</th>\n",
       "    </tr>\n",
       "  </thead>\n",
       "  <tbody>\n",
       "    <tr>\n",
       "      <th>0</th>\n",
       "      <td>Sr Data Scientist</td>\n",
       "      <td>$137K-$171K</td>\n",
       "      <td>Description  The Senior Data Scientist is resp...</td>\n",
       "      <td>3.1</td>\n",
       "      <td>Healthfirst</td>\n",
       "      <td>New York, NY</td>\n",
       "      <td>New York, NY</td>\n",
       "      <td>1001 to 5000 employees</td>\n",
       "      <td>1970</td>\n",
       "      <td>Nonprofit Organization</td>\n",
       "      <td>Insurance Carriers</td>\n",
       "      <td>Insurance</td>\n",
       "      <td>Unknown / Non-Applicable</td>\n",
       "      <td>True</td>\n",
       "      <td>137</td>\n",
       "      <td>171</td>\n",
       "      <td>154.0</td>\n",
       "    </tr>\n",
       "    <tr>\n",
       "      <th>1</th>\n",
       "      <td>Data Scientist</td>\n",
       "      <td>$137K-$171K</td>\n",
       "      <td>Secure our Nation, Ignite your Future  Join th...</td>\n",
       "      <td>4.2</td>\n",
       "      <td>ManTech</td>\n",
       "      <td>Chantilly, VA</td>\n",
       "      <td>Herndon, VA</td>\n",
       "      <td>5001 to 10000 employees</td>\n",
       "      <td>1970</td>\n",
       "      <td>Company - Public</td>\n",
       "      <td>Research &amp; Development</td>\n",
       "      <td>Business Services</td>\n",
       "      <td>$1 to $2 billion (USD)</td>\n",
       "      <td>False</td>\n",
       "      <td>137</td>\n",
       "      <td>171</td>\n",
       "      <td>154.0</td>\n",
       "    </tr>\n",
       "    <tr>\n",
       "      <th>2</th>\n",
       "      <td>Data Scientist</td>\n",
       "      <td>$137K-$171K</td>\n",
       "      <td>Overview   Analysis Group is one of the larges...</td>\n",
       "      <td>3.8</td>\n",
       "      <td>Analysis Group</td>\n",
       "      <td>Boston, MA</td>\n",
       "      <td>Boston, MA</td>\n",
       "      <td>1001 to 5000 employees</td>\n",
       "      <td>1970</td>\n",
       "      <td>Private Practice / Firm</td>\n",
       "      <td>Consulting</td>\n",
       "      <td>Business Services</td>\n",
       "      <td>$100 to $500 million (USD)</td>\n",
       "      <td>False</td>\n",
       "      <td>137</td>\n",
       "      <td>171</td>\n",
       "      <td>154.0</td>\n",
       "    </tr>\n",
       "    <tr>\n",
       "      <th>3</th>\n",
       "      <td>Data Scientist</td>\n",
       "      <td>$137K-$171K</td>\n",
       "      <td>JOB DESCRIPTION:  Do you have a passion for Da...</td>\n",
       "      <td>3.5</td>\n",
       "      <td>INFICON</td>\n",
       "      <td>Newton, MA</td>\n",
       "      <td>Bad Ragaz, Switzerland</td>\n",
       "      <td>501 to 1000 employees</td>\n",
       "      <td>1970</td>\n",
       "      <td>Company - Public</td>\n",
       "      <td>Electrical &amp; Electronic Manufacturing</td>\n",
       "      <td>Manufacturing</td>\n",
       "      <td>$100 to $500 million (USD)</td>\n",
       "      <td>False</td>\n",
       "      <td>137</td>\n",
       "      <td>171</td>\n",
       "      <td>154.0</td>\n",
       "    </tr>\n",
       "    <tr>\n",
       "      <th>4</th>\n",
       "      <td>Data Scientist</td>\n",
       "      <td>$137K-$171K</td>\n",
       "      <td>Data Scientist Affinity Solutions / Marketing ...</td>\n",
       "      <td>2.9</td>\n",
       "      <td>Affinity Solutions</td>\n",
       "      <td>New York, NY</td>\n",
       "      <td>New York, NY</td>\n",
       "      <td>51 to 200 employees</td>\n",
       "      <td>1970</td>\n",
       "      <td>Company - Private</td>\n",
       "      <td>Advertising &amp; Marketing</td>\n",
       "      <td>Business Services</td>\n",
       "      <td>Unknown / Non-Applicable</td>\n",
       "      <td>False</td>\n",
       "      <td>137</td>\n",
       "      <td>171</td>\n",
       "      <td>154.0</td>\n",
       "    </tr>\n",
       "    <tr>\n",
       "      <th>...</th>\n",
       "      <td>...</td>\n",
       "      <td>...</td>\n",
       "      <td>...</td>\n",
       "      <td>...</td>\n",
       "      <td>...</td>\n",
       "      <td>...</td>\n",
       "      <td>...</td>\n",
       "      <td>...</td>\n",
       "      <td>...</td>\n",
       "      <td>...</td>\n",
       "      <td>...</td>\n",
       "      <td>...</td>\n",
       "      <td>...</td>\n",
       "      <td>...</td>\n",
       "      <td>...</td>\n",
       "      <td>...</td>\n",
       "      <td>...</td>\n",
       "    </tr>\n",
       "    <tr>\n",
       "      <th>654</th>\n",
       "      <td>Data Scientist</td>\n",
       "      <td>$105K-$167K</td>\n",
       "      <td>Summary  We’re looking for a data scientist to...</td>\n",
       "      <td>3.6</td>\n",
       "      <td>TRANZACT</td>\n",
       "      <td>Fort Lee, NJ</td>\n",
       "      <td>Fort Lee, NJ</td>\n",
       "      <td>1001 to 5000 employees</td>\n",
       "      <td>1970</td>\n",
       "      <td>Company - Private</td>\n",
       "      <td>Advertising &amp; Marketing</td>\n",
       "      <td>Business Services</td>\n",
       "      <td>Unknown / Non-Applicable</td>\n",
       "      <td>False</td>\n",
       "      <td>105</td>\n",
       "      <td>167</td>\n",
       "      <td>136.0</td>\n",
       "    </tr>\n",
       "    <tr>\n",
       "      <th>655</th>\n",
       "      <td>Data Scientist</td>\n",
       "      <td>$105K-$167K</td>\n",
       "      <td>Job Description Become a thought leader within...</td>\n",
       "      <td>3.9</td>\n",
       "      <td>JKGT</td>\n",
       "      <td>San Francisco, CA</td>\n",
       "      <td>Santa Cruz, CA</td>\n",
       "      <td>Unknown</td>\n",
       "      <td>1970</td>\n",
       "      <td>Unknown</td>\n",
       "      <td>Biotech &amp; Pharmaceuticals</td>\n",
       "      <td>Information Technology</td>\n",
       "      <td>Unknown / Non-Applicable</td>\n",
       "      <td>False</td>\n",
       "      <td>105</td>\n",
       "      <td>167</td>\n",
       "      <td>136.0</td>\n",
       "    </tr>\n",
       "    <tr>\n",
       "      <th>656</th>\n",
       "      <td>Data Scientist</td>\n",
       "      <td>$105K-$167K</td>\n",
       "      <td>Join a thriving company that is changing the w...</td>\n",
       "      <td>3.9</td>\n",
       "      <td>AccessHope</td>\n",
       "      <td>Irwindale, CA</td>\n",
       "      <td>Santa Cruz, CA</td>\n",
       "      <td>Unknown</td>\n",
       "      <td>1970</td>\n",
       "      <td>Unknown</td>\n",
       "      <td>Biotech &amp; Pharmaceuticals</td>\n",
       "      <td>Information Technology</td>\n",
       "      <td>Unknown / Non-Applicable</td>\n",
       "      <td>False</td>\n",
       "      <td>105</td>\n",
       "      <td>167</td>\n",
       "      <td>136.0</td>\n",
       "    </tr>\n",
       "    <tr>\n",
       "      <th>657</th>\n",
       "      <td>Data Scientist</td>\n",
       "      <td>$105K-$167K</td>\n",
       "      <td>100 Remote Opportunity As an AINLP Data Scient...</td>\n",
       "      <td>5.0</td>\n",
       "      <td>ChaTeck Incorporated</td>\n",
       "      <td>San Francisco, CA</td>\n",
       "      <td>Santa Clara, CA</td>\n",
       "      <td>1 to 50 employees</td>\n",
       "      <td>1970</td>\n",
       "      <td>Company - Private</td>\n",
       "      <td>Advertising &amp; Marketing</td>\n",
       "      <td>Business Services</td>\n",
       "      <td>$1 to $5 million (USD)</td>\n",
       "      <td>False</td>\n",
       "      <td>105</td>\n",
       "      <td>167</td>\n",
       "      <td>136.0</td>\n",
       "    </tr>\n",
       "    <tr>\n",
       "      <th>658</th>\n",
       "      <td>Data Scientist</td>\n",
       "      <td>$105K-$167K</td>\n",
       "      <td>Description  The Data Scientist will be part o...</td>\n",
       "      <td>2.7</td>\n",
       "      <td>1-800-Flowers</td>\n",
       "      <td>New York, NY</td>\n",
       "      <td>Carle Place, NY</td>\n",
       "      <td>1001 to 5000 employees</td>\n",
       "      <td>1970</td>\n",
       "      <td>Company - Public</td>\n",
       "      <td>Wholesale</td>\n",
       "      <td>Business Services</td>\n",
       "      <td>$1 to $2 billion (USD)</td>\n",
       "      <td>False</td>\n",
       "      <td>105</td>\n",
       "      <td>167</td>\n",
       "      <td>136.0</td>\n",
       "    </tr>\n",
       "  </tbody>\n",
       "</table>\n",
       "<p>659 rows × 17 columns</p>\n",
       "</div>"
      ],
      "text/plain": [
       "             Job Title Salary Estimate  \\\n",
       "0    Sr Data Scientist     $137K-$171K   \n",
       "1       Data Scientist     $137K-$171K   \n",
       "2       Data Scientist     $137K-$171K   \n",
       "3       Data Scientist     $137K-$171K   \n",
       "4       Data Scientist     $137K-$171K   \n",
       "..                 ...             ...   \n",
       "654     Data Scientist     $105K-$167K   \n",
       "655     Data Scientist     $105K-$167K   \n",
       "656     Data Scientist     $105K-$167K   \n",
       "657     Data Scientist     $105K-$167K   \n",
       "658     Data Scientist     $105K-$167K   \n",
       "\n",
       "                                       Job Description  Rating  \\\n",
       "0    Description  The Senior Data Scientist is resp...     3.1   \n",
       "1    Secure our Nation, Ignite your Future  Join th...     4.2   \n",
       "2    Overview   Analysis Group is one of the larges...     3.8   \n",
       "3    JOB DESCRIPTION:  Do you have a passion for Da...     3.5   \n",
       "4    Data Scientist Affinity Solutions / Marketing ...     2.9   \n",
       "..                                                 ...     ...   \n",
       "654  Summary  We’re looking for a data scientist to...     3.6   \n",
       "655  Job Description Become a thought leader within...     3.9   \n",
       "656  Join a thriving company that is changing the w...     3.9   \n",
       "657  100 Remote Opportunity As an AINLP Data Scient...     5.0   \n",
       "658  Description  The Data Scientist will be part o...     2.7   \n",
       "\n",
       "             Company Name           Location            Headquarters  \\\n",
       "0             Healthfirst       New York, NY            New York, NY   \n",
       "1                 ManTech      Chantilly, VA             Herndon, VA   \n",
       "2          Analysis Group         Boston, MA              Boston, MA   \n",
       "3                 INFICON         Newton, MA  Bad Ragaz, Switzerland   \n",
       "4      Affinity Solutions       New York, NY            New York, NY   \n",
       "..                    ...                ...                     ...   \n",
       "654              TRANZACT       Fort Lee, NJ            Fort Lee, NJ   \n",
       "655                  JKGT  San Francisco, CA          Santa Cruz, CA   \n",
       "656            AccessHope      Irwindale, CA          Santa Cruz, CA   \n",
       "657  ChaTeck Incorporated  San Francisco, CA         Santa Clara, CA   \n",
       "658         1-800-Flowers       New York, NY         Carle Place, NY   \n",
       "\n",
       "                        Size Founded        Type of ownership  \\\n",
       "0     1001 to 5000 employees    1970   Nonprofit Organization   \n",
       "1    5001 to 10000 employees    1970         Company - Public   \n",
       "2     1001 to 5000 employees    1970  Private Practice / Firm   \n",
       "3      501 to 1000 employees    1970         Company - Public   \n",
       "4        51 to 200 employees    1970        Company - Private   \n",
       "..                       ...     ...                      ...   \n",
       "654   1001 to 5000 employees    1970        Company - Private   \n",
       "655                  Unknown    1970                  Unknown   \n",
       "656                  Unknown    1970                  Unknown   \n",
       "657        1 to 50 employees    1970        Company - Private   \n",
       "658   1001 to 5000 employees    1970         Company - Public   \n",
       "\n",
       "                                  Industry                  Sector  \\\n",
       "0                       Insurance Carriers               Insurance   \n",
       "1                   Research & Development       Business Services   \n",
       "2                               Consulting       Business Services   \n",
       "3    Electrical & Electronic Manufacturing           Manufacturing   \n",
       "4                  Advertising & Marketing       Business Services   \n",
       "..                                     ...                     ...   \n",
       "654                Advertising & Marketing       Business Services   \n",
       "655              Biotech & Pharmaceuticals  Information Technology   \n",
       "656              Biotech & Pharmaceuticals  Information Technology   \n",
       "657                Advertising & Marketing       Business Services   \n",
       "658                              Wholesale       Business Services   \n",
       "\n",
       "                        Revenue  Seniority  min salary  max salary  \\\n",
       "0      Unknown / Non-Applicable       True         137         171   \n",
       "1        $1 to $2 billion (USD)      False         137         171   \n",
       "2    $100 to $500 million (USD)      False         137         171   \n",
       "3    $100 to $500 million (USD)      False         137         171   \n",
       "4      Unknown / Non-Applicable      False         137         171   \n",
       "..                          ...        ...         ...         ...   \n",
       "654    Unknown / Non-Applicable      False         105         167   \n",
       "655    Unknown / Non-Applicable      False         105         167   \n",
       "656    Unknown / Non-Applicable      False         105         167   \n",
       "657      $1 to $5 million (USD)      False         105         167   \n",
       "658      $1 to $2 billion (USD)      False         105         167   \n",
       "\n",
       "     average salary  \n",
       "0             154.0  \n",
       "1             154.0  \n",
       "2             154.0  \n",
       "3             154.0  \n",
       "4             154.0  \n",
       "..              ...  \n",
       "654           136.0  \n",
       "655           136.0  \n",
       "656           136.0  \n",
       "657           136.0  \n",
       "658           136.0  \n",
       "\n",
       "[659 rows x 17 columns]"
      ]
     },
     "execution_count": 78,
     "metadata": {},
     "output_type": "execute_result"
    }
   ],
   "source": [
    "df"
   ]
  },
  {
   "cell_type": "code",
   "execution_count": null,
   "id": "d6e7cc41",
   "metadata": {},
   "outputs": [],
   "source": []
  }
 ],
 "metadata": {
  "kernelspec": {
   "display_name": "Python 3 (ipykernel)",
   "language": "python",
   "name": "python3"
  },
  "language_info": {
   "codemirror_mode": {
    "name": "ipython",
    "version": 3
   },
   "file_extension": ".py",
   "mimetype": "text/x-python",
   "name": "python",
   "nbconvert_exporter": "python",
   "pygments_lexer": "ipython3",
   "version": "3.9.12"
  }
 },
 "nbformat": 4,
 "nbformat_minor": 5
}
